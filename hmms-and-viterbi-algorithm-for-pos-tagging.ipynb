{
 "cells": [
  {
   "cell_type": "markdown",
   "id": "adolescent-device",
   "metadata": {
    "papermill": {
     "duration": 0.057678,
     "end_time": "2021-06-22T16:24:17.477034",
     "exception": false,
     "start_time": "2021-06-22T16:24:17.419356",
     "status": "completed"
    },
    "tags": []
   },
   "source": [
    "## POS tagging using modified Viterbi\n",
    "\n",
    "\n",
    "#### Steps involved:\n",
    "\n",
    " 1. Vanilla Viterbi Algorithm for assigning POS tags (i.e. without dealing with unknown words)\n",
    " 2. Viterbi Modification-Approach I:\n",
    "     - Transition probability is considered in case of unknown words since emission probability is zero.\n",
    " 3. Viterbi Modification-Approach II:\n",
    "     - Trigram tagger backed off to a rule based tagger in case of an unknown word.\n",
    " 4. Compare the tagging accuracy after making these modifications with the vanilla Viterbi algorithm.\n",
    " 5. Listed down cases which were incorrectly tagged by original Viterbi POS tagger and got corrected after modifications."
   ]
  },
  {
   "cell_type": "markdown",
   "id": "inappropriate-inclusion",
   "metadata": {
    "papermill": {
     "duration": 0.053278,
     "end_time": "2021-06-22T16:24:17.582309",
     "exception": false,
     "start_time": "2021-06-22T16:24:17.529031",
     "status": "completed"
    },
    "tags": []
   },
   "source": [
    "### Data Preparation"
   ]
  },
  {
   "cell_type": "code",
   "execution_count": 1,
   "id": "consolidated-timber",
   "metadata": {
    "execution": {
     "iopub.execute_input": "2021-06-22T16:24:17.693599Z",
     "iopub.status.busy": "2021-06-22T16:24:17.692453Z",
     "iopub.status.idle": "2021-06-22T16:24:19.689162Z",
     "shell.execute_reply": "2021-06-22T16:24:19.690039Z",
     "shell.execute_reply.started": "2021-06-22T14:14:13.494836Z"
    },
    "papermill": {
     "duration": 2.055072,
     "end_time": "2021-06-22T16:24:19.690396",
     "exception": false,
     "start_time": "2021-06-22T16:24:17.635324",
     "status": "completed"
    },
    "tags": []
   },
   "outputs": [],
   "source": [
    "#Importing libraries\n",
    "import nltk\n",
    "import numpy as np\n",
    "import pandas as pd\n",
    "import matplotlib.pyplot as plt\n",
    "import seaborn as sns\n",
    "import pprint,time\n",
    "import random\n",
    "from sklearn.model_selection import train_test_split\n",
    "from nltk.tokenize import word_tokenize\n"
   ]
  },
  {
   "cell_type": "code",
   "execution_count": 2,
   "id": "weird-active",
   "metadata": {
    "execution": {
     "iopub.execute_input": "2021-06-22T16:24:19.800108Z",
     "iopub.status.busy": "2021-06-22T16:24:19.799414Z",
     "iopub.status.idle": "2021-06-22T16:24:43.723245Z",
     "shell.execute_reply": "2021-06-22T16:24:43.723796Z",
     "shell.execute_reply.started": "2021-06-22T14:14:15.549992Z"
    },
    "papermill": {
     "duration": 23.98065,
     "end_time": "2021-06-22T16:24:43.724009",
     "exception": false,
     "start_time": "2021-06-22T16:24:19.743359",
     "status": "completed"
    },
    "tags": []
   },
   "outputs": [
    {
     "name": "stdout",
     "output_type": "stream",
     "text": [
      "[nltk_data] Error loading universal_tagset: <urlopen error [Errno -3]\n",
      "[nltk_data]     Temporary failure in name resolution>\n"
     ]
    }
   ],
   "source": [
    "# reading the Treebank tagged sentences\n",
    "nltk.download('universal_tagset')\n",
    "nltk_data = list(nltk.corpus.treebank.tagged_sents(tagset='universal'))"
   ]
  },
  {
   "cell_type": "code",
   "execution_count": 3,
   "id": "gorgeous-afternoon",
   "metadata": {
    "execution": {
     "iopub.execute_input": "2021-06-22T16:24:43.840038Z",
     "iopub.status.busy": "2021-06-22T16:24:43.839287Z",
     "iopub.status.idle": "2021-06-22T16:24:43.846387Z",
     "shell.execute_reply": "2021-06-22T16:24:43.846995Z",
     "shell.execute_reply.started": "2021-06-22T14:14:39.558057Z"
    },
    "papermill": {
     "duration": 0.067392,
     "end_time": "2021-06-22T16:24:43.847183",
     "exception": false,
     "start_time": "2021-06-22T16:24:43.779791",
     "status": "completed"
    },
    "tags": []
   },
   "outputs": [
    {
     "data": {
      "text/plain": [
       "3914"
      ]
     },
     "execution_count": 3,
     "metadata": {},
     "output_type": "execute_result"
    }
   ],
   "source": [
    "#check the length \n",
    "len(nltk_data)"
   ]
  },
  {
   "cell_type": "code",
   "execution_count": 4,
   "id": "standing-holocaust",
   "metadata": {
    "execution": {
     "iopub.execute_input": "2021-06-22T16:24:43.960243Z",
     "iopub.status.busy": "2021-06-22T16:24:43.959579Z",
     "iopub.status.idle": "2021-06-22T16:24:43.966011Z",
     "shell.execute_reply": "2021-06-22T16:24:43.965336Z",
     "shell.execute_reply.started": "2021-06-22T14:14:39.568954Z"
    },
    "papermill": {
     "duration": 0.063658,
     "end_time": "2021-06-22T16:24:43.966169",
     "exception": false,
     "start_time": "2021-06-22T16:24:43.902511",
     "status": "completed"
    },
    "tags": []
   },
   "outputs": [
    {
     "name": "stdout",
     "output_type": "stream",
     "text": [
      "[[('Pierre', 'NOUN'), ('Vinken', 'NOUN'), (',', '.'), ('61', 'NUM'), ('years', 'NOUN'), ('old', 'ADJ'), (',', '.'), ('will', 'VERB'), ('join', 'VERB'), ('the', 'DET'), ('board', 'NOUN'), ('as', 'ADP'), ('a', 'DET'), ('nonexecutive', 'ADJ'), ('director', 'NOUN'), ('Nov.', 'NOUN'), ('29', 'NUM'), ('.', '.')], [('Mr.', 'NOUN'), ('Vinken', 'NOUN'), ('is', 'VERB'), ('chairman', 'NOUN'), ('of', 'ADP'), ('Elsevier', 'NOUN'), ('N.V.', 'NOUN'), (',', '.'), ('the', 'DET'), ('Dutch', 'NOUN'), ('publishing', 'VERB'), ('group', 'NOUN'), ('.', '.')], [('Rudolph', 'NOUN'), ('Agnew', 'NOUN'), (',', '.'), ('55', 'NUM'), ('years', 'NOUN'), ('old', 'ADJ'), ('and', 'CONJ'), ('former', 'ADJ'), ('chairman', 'NOUN'), ('of', 'ADP'), ('Consolidated', 'NOUN'), ('Gold', 'NOUN'), ('Fields', 'NOUN'), ('PLC', 'NOUN'), (',', '.'), ('was', 'VERB'), ('named', 'VERB'), ('*-1', 'X'), ('a', 'DET'), ('nonexecutive', 'ADJ'), ('director', 'NOUN'), ('of', 'ADP'), ('this', 'DET'), ('British', 'ADJ'), ('industrial', 'ADJ'), ('conglomerate', 'NOUN'), ('.', '.')], [('A', 'DET'), ('form', 'NOUN'), ('of', 'ADP'), ('asbestos', 'NOUN'), ('once', 'ADV'), ('used', 'VERB'), ('*', 'X'), ('*', 'X'), ('to', 'PRT'), ('make', 'VERB'), ('Kent', 'NOUN'), ('cigarette', 'NOUN'), ('filters', 'NOUN'), ('has', 'VERB'), ('caused', 'VERB'), ('a', 'DET'), ('high', 'ADJ'), ('percentage', 'NOUN'), ('of', 'ADP'), ('cancer', 'NOUN'), ('deaths', 'NOUN'), ('among', 'ADP'), ('a', 'DET'), ('group', 'NOUN'), ('of', 'ADP'), ('workers', 'NOUN'), ('exposed', 'VERB'), ('*', 'X'), ('to', 'PRT'), ('it', 'PRON'), ('more', 'ADV'), ('than', 'ADP'), ('30', 'NUM'), ('years', 'NOUN'), ('ago', 'ADP'), (',', '.'), ('researchers', 'NOUN'), ('reported', 'VERB'), ('0', 'X'), ('*T*-1', 'X'), ('.', '.')], [('The', 'DET'), ('asbestos', 'NOUN'), ('fiber', 'NOUN'), (',', '.'), ('crocidolite', 'NOUN'), (',', '.'), ('is', 'VERB'), ('unusually', 'ADV'), ('resilient', 'ADJ'), ('once', 'ADP'), ('it', 'PRON'), ('enters', 'VERB'), ('the', 'DET'), ('lungs', 'NOUN'), (',', '.'), ('with', 'ADP'), ('even', 'ADV'), ('brief', 'ADJ'), ('exposures', 'NOUN'), ('to', 'PRT'), ('it', 'PRON'), ('causing', 'VERB'), ('symptoms', 'NOUN'), ('that', 'DET'), ('*T*-1', 'X'), ('show', 'VERB'), ('up', 'PRT'), ('decades', 'NOUN'), ('later', 'ADJ'), (',', '.'), ('researchers', 'NOUN'), ('said', 'VERB'), ('0', 'X'), ('*T*-2', 'X'), ('.', '.')]]\n"
     ]
    }
   ],
   "source": [
    "#check the first few tagged sentences\n",
    "print(nltk_data[:5])"
   ]
  },
  {
   "cell_type": "code",
   "execution_count": 5,
   "id": "wrong-stack",
   "metadata": {
    "execution": {
     "iopub.execute_input": "2021-06-22T16:24:44.088833Z",
     "iopub.status.busy": "2021-06-22T16:24:44.088042Z",
     "iopub.status.idle": "2021-06-22T16:24:44.090983Z",
     "shell.execute_reply": "2021-06-22T16:24:44.091728Z",
     "shell.execute_reply.started": "2021-06-22T14:14:39.586472Z"
    },
    "papermill": {
     "duration": 0.069995,
     "end_time": "2021-06-22T16:24:44.091986",
     "exception": false,
     "start_time": "2021-06-22T16:24:44.021991",
     "status": "completed"
    },
    "tags": []
   },
   "outputs": [
    {
     "name": "stdout",
     "output_type": "stream",
     "text": [
      "3718\n",
      "196\n"
     ]
    }
   ],
   "source": [
    "#Split data into train and validation set in the ratio of 95:5\n",
    "random.seed(1234)\n",
    "train_set, test_set = train_test_split(nltk_data,train_size=0.95, test_size=0.05, random_state=42)\n",
    "\n",
    "print(len(train_set))\n",
    "print(len(test_set))"
   ]
  },
  {
   "cell_type": "code",
   "execution_count": 6,
   "id": "further-fight",
   "metadata": {
    "execution": {
     "iopub.execute_input": "2021-06-22T16:24:44.206562Z",
     "iopub.status.busy": "2021-06-22T16:24:44.205846Z",
     "iopub.status.idle": "2021-06-22T16:24:44.220989Z",
     "shell.execute_reply": "2021-06-22T16:24:44.220038Z",
     "shell.execute_reply.started": "2021-06-22T14:14:39.612610Z"
    },
    "papermill": {
     "duration": 0.072198,
     "end_time": "2021-06-22T16:24:44.221195",
     "exception": false,
     "start_time": "2021-06-22T16:24:44.148997",
     "status": "completed"
    },
    "tags": []
   },
   "outputs": [
    {
     "name": "stdout",
     "output_type": "stream",
     "text": [
      "95589\n",
      "5087\n"
     ]
    }
   ],
   "source": [
    "# Getting list of tagged words - train data\n",
    "train_tagged_words = [tup for sent in train_set for tup in sent]\n",
    "print(len(train_tagged_words))\n",
    "\n",
    "# Getting list of tagged words - validation data\n",
    "test_tagged_words = [tup for sent in test_set for tup in sent]\n",
    "print(len(test_tagged_words))"
   ]
  },
  {
   "cell_type": "code",
   "execution_count": 7,
   "id": "fiscal-phrase",
   "metadata": {
    "execution": {
     "iopub.execute_input": "2021-06-22T16:24:44.352361Z",
     "iopub.status.busy": "2021-06-22T16:24:44.351557Z",
     "iopub.status.idle": "2021-06-22T16:24:44.357121Z",
     "shell.execute_reply": "2021-06-22T16:24:44.356523Z",
     "shell.execute_reply.started": "2021-06-22T14:14:39.634456Z"
    },
    "papermill": {
     "duration": 0.078377,
     "end_time": "2021-06-22T16:24:44.357272",
     "exception": false,
     "start_time": "2021-06-22T16:24:44.278895",
     "status": "completed"
    },
    "tags": []
   },
   "outputs": [
    {
     "data": {
      "text/plain": [
       "['Bank', 'of', 'New', 'England', \"'s\", 'shares', 'are', 'traded', '*-1', 'on']"
      ]
     },
     "execution_count": 7,
     "metadata": {},
     "output_type": "execute_result"
    }
   ],
   "source": [
    "# tokens. i.e. the list of words from list of (word, tag) fom train set\n",
    "tokens = [pair[0] for pair in train_tagged_words]\n",
    "tokens[:10]"
   ]
  },
  {
   "cell_type": "code",
   "execution_count": 8,
   "id": "artificial-fashion",
   "metadata": {
    "execution": {
     "iopub.execute_input": "2021-06-22T16:24:44.490489Z",
     "iopub.status.busy": "2021-06-22T16:24:44.489736Z",
     "iopub.status.idle": "2021-06-22T16:24:44.494496Z",
     "shell.execute_reply": "2021-06-22T16:24:44.495012Z",
     "shell.execute_reply.started": "2021-06-22T14:14:39.661455Z"
    },
    "papermill": {
     "duration": 0.08018,
     "end_time": "2021-06-22T16:24:44.495208",
     "exception": false,
     "start_time": "2021-06-22T16:24:44.415028",
     "status": "completed"
    },
    "tags": []
   },
   "outputs": [
    {
     "name": "stdout",
     "output_type": "stream",
     "text": [
      "12109\n"
     ]
    }
   ],
   "source": [
    "#vocabulary\n",
    "V = set(tokens)\n",
    "print(len(V))"
   ]
  },
  {
   "cell_type": "code",
   "execution_count": 9,
   "id": "perfect-sponsorship",
   "metadata": {
    "execution": {
     "iopub.execute_input": "2021-06-22T16:24:44.621843Z",
     "iopub.status.busy": "2021-06-22T16:24:44.621118Z",
     "iopub.status.idle": "2021-06-22T16:24:44.630386Z",
     "shell.execute_reply": "2021-06-22T16:24:44.629804Z",
     "shell.execute_reply.started": "2021-06-22T14:14:39.687983Z"
    },
    "papermill": {
     "duration": 0.076559,
     "end_time": "2021-06-22T16:24:44.630584",
     "exception": false,
     "start_time": "2021-06-22T16:24:44.554025",
     "status": "completed"
    },
    "tags": []
   },
   "outputs": [
    {
     "data": {
      "text/plain": [
       "12"
      ]
     },
     "execution_count": 9,
     "metadata": {},
     "output_type": "execute_result"
    }
   ],
   "source": [
    "#number of tags\n",
    "T = sorted(list(set([pair[1] for pair in train_tagged_words])))\n",
    "len(T)"
   ]
  },
  {
   "cell_type": "code",
   "execution_count": 10,
   "id": "precise-sterling",
   "metadata": {
    "execution": {
     "iopub.execute_input": "2021-06-22T16:24:44.750253Z",
     "iopub.status.busy": "2021-06-22T16:24:44.749529Z",
     "iopub.status.idle": "2021-06-22T16:24:44.754110Z",
     "shell.execute_reply": "2021-06-22T16:24:44.754853Z",
     "shell.execute_reply.started": "2021-06-22T14:14:39.718283Z"
    },
    "papermill": {
     "duration": 0.06742,
     "end_time": "2021-06-22T16:24:44.755099",
     "exception": false,
     "start_time": "2021-06-22T16:24:44.687679",
     "status": "completed"
    },
    "tags": []
   },
   "outputs": [
    {
     "name": "stdout",
     "output_type": "stream",
     "text": [
      "['.', 'ADJ', 'ADP', 'ADV', 'CONJ', 'DET', 'NOUN', 'NUM', 'PRON', 'PRT', 'VERB', 'X']\n"
     ]
    }
   ],
   "source": [
    "#check the tags\n",
    "print(T)"
   ]
  },
  {
   "cell_type": "markdown",
   "id": "earlier-dispatch",
   "metadata": {
    "papermill": {
     "duration": 0.056459,
     "end_time": "2021-06-22T16:24:44.868771",
     "exception": false,
     "start_time": "2021-06-22T16:24:44.812312",
     "status": "completed"
    },
    "tags": []
   },
   "source": [
    "**Observations:** \n",
    "\n",
    " - The tagset consists of the following 12 coarse tags:\n",
    "\n",
    "\n",
    "    . - punctuation\n",
    "\n",
    "    ADJ - adjectives\n",
    "\n",
    "    ADP - adpositions\n",
    "\n",
    "    ADV - adverbs\n",
    "\n",
    "    CONJ - conjunctions\n",
    "\n",
    "    DET - determiners\n",
    "\n",
    "    NOUN - nouns\n",
    "\n",
    "    NUM - cardinal numbers\n",
    "\n",
    "    PRON - pronouns\n",
    "\n",
    "    PRT - particles or other function words\n",
    "\n",
    "    VERB - verbs\n",
    "\n",
    "    X - other: foreign words, typos, abbreviations"
   ]
  },
  {
   "cell_type": "markdown",
   "id": "romance-royal",
   "metadata": {
    "papermill": {
     "duration": 0.056966,
     "end_time": "2021-06-22T16:24:44.980772",
     "exception": false,
     "start_time": "2021-06-22T16:24:44.923806",
     "status": "completed"
    },
    "tags": []
   },
   "source": [
    "### POS Tagging Algorithm - HMM\n",
    "\n",
    " - We'll use the HMM algorithm to tag the words.Given a sequence of words to be tagged, the task is to assign the most probable tag to the word.\n",
    "\n",
    "\n",
    " - For each word, we compute the P(tag|word) for each tag in the tag set and then assign the tag having the max P(tag/word).\n",
    "\n",
    "\n",
    " - P(tag|word) = (emission probability of the word-tag pair) (transition probability from the previous tag).\n",
    "    i.e. P(t|w) = P(w|t) P(t2|t1)\n",
    "\n",
    "\n",
    "\n",
    "\n",
    " - Emission probability of a word 'w' for tag 't':\n",
    "\n",
    "    P(w|t)= (No.of times w has been tagged as t)/(No.of times t appears)\n",
    "\n",
    "\n",
    " - Transition probability of tag t1 followed by tag t2:\n",
    "\n",
    "    P(t2|t1)= (No.of times t1 is followed by tag t2)/(No.of times t1 appears)\n",
    "\n",
    "\n",
    "So, Let us calculate the emission and transition probabilities."
   ]
  },
  {
   "cell_type": "markdown",
   "id": "labeled-sequence",
   "metadata": {
    "papermill": {
     "duration": 0.056426,
     "end_time": "2021-06-22T16:24:45.094365",
     "exception": false,
     "start_time": "2021-06-22T16:24:45.037939",
     "status": "completed"
    },
    "tags": []
   },
   "source": [
    "### Emission probabilities"
   ]
  },
  {
   "cell_type": "code",
   "execution_count": 11,
   "id": "loving-kuwait",
   "metadata": {
    "execution": {
     "iopub.execute_input": "2021-06-22T16:24:45.213889Z",
     "iopub.status.busy": "2021-06-22T16:24:45.212877Z",
     "iopub.status.idle": "2021-06-22T16:24:45.216601Z",
     "shell.execute_reply": "2021-06-22T16:24:45.215864Z",
     "shell.execute_reply.started": "2021-06-22T14:14:39.725206Z"
    },
    "papermill": {
     "duration": 0.065488,
     "end_time": "2021-06-22T16:24:45.216760",
     "exception": false,
     "start_time": "2021-06-22T16:24:45.151272",
     "status": "completed"
    },
    "tags": []
   },
   "outputs": [],
   "source": [
    "# computing P(w/t) and storing in T x V matrix\n",
    "t = len(T)\n",
    "v = len(V)\n",
    "w_given_t = np.zeros((t, v))"
   ]
  },
  {
   "cell_type": "code",
   "execution_count": 12,
   "id": "damaged-specific",
   "metadata": {
    "execution": {
     "iopub.execute_input": "2021-06-22T16:24:45.338319Z",
     "iopub.status.busy": "2021-06-22T16:24:45.337647Z",
     "iopub.status.idle": "2021-06-22T16:24:45.340032Z",
     "shell.execute_reply": "2021-06-22T16:24:45.340507Z",
     "shell.execute_reply.started": "2021-06-22T14:14:39.739324Z"
    },
    "papermill": {
     "duration": 0.065556,
     "end_time": "2021-06-22T16:24:45.340696",
     "exception": false,
     "start_time": "2021-06-22T16:24:45.275140",
     "status": "completed"
    },
    "tags": []
   },
   "outputs": [],
   "source": [
    "# compute word given tag: Emission Probability\n",
    "def word_given_tag(word, tag, train_bag = train_tagged_words):\n",
    "    \n",
    "    # Calculate no.of times tag t appears\n",
    "    tag_list = [pair for pair in train_bag if pair[1]==tag]\n",
    "    count_tag = len(tag_list)\n",
    "    \n",
    "    # Calculate no.of times word w has been tagged as tag t\n",
    "    w_given_tag_list = [pair[0] for pair in tag_list if pair[0]==word]\n",
    "    count_w_given_tag = len(w_given_tag_list)\n",
    "    \n",
    "    return (count_w_given_tag, count_tag)"
   ]
  },
  {
   "cell_type": "code",
   "execution_count": 13,
   "id": "ordinary-delhi",
   "metadata": {
    "execution": {
     "iopub.execute_input": "2021-06-22T16:24:45.454947Z",
     "iopub.status.busy": "2021-06-22T16:24:45.454222Z",
     "iopub.status.idle": "2021-06-22T16:24:45.500850Z",
     "shell.execute_reply": "2021-06-22T16:24:45.499723Z",
     "shell.execute_reply.started": "2021-06-22T14:14:39.751974Z"
    },
    "papermill": {
     "duration": 0.105556,
     "end_time": "2021-06-22T16:24:45.501136",
     "exception": false,
     "start_time": "2021-06-22T16:24:45.395580",
     "status": "completed"
    },
    "tags": []
   },
   "outputs": [
    {
     "name": "stdout",
     "output_type": "stream",
     "text": [
      "reported\n",
      "(0, 27423)\n",
      "(34, 12885)\n",
      "(0, 6077)\n"
     ]
    }
   ],
   "source": [
    "#Example\n",
    "\n",
    "print(\"reported\")\n",
    "print(word_given_tag('reported','NOUN'))\n",
    "print(word_given_tag('reported','VERB'))\n",
    "print(word_given_tag('reported','ADJ'))"
   ]
  },
  {
   "cell_type": "markdown",
   "id": "beneficial-manhattan",
   "metadata": {
    "papermill": {
     "duration": 0.057564,
     "end_time": "2021-06-22T16:24:45.615561",
     "exception": false,
     "start_time": "2021-06-22T16:24:45.557997",
     "status": "completed"
    },
    "tags": []
   },
   "source": [
    "### Transition Probabilities"
   ]
  },
  {
   "cell_type": "code",
   "execution_count": 14,
   "id": "hungarian-legend",
   "metadata": {
    "execution": {
     "iopub.execute_input": "2021-06-22T16:24:45.744359Z",
     "iopub.status.busy": "2021-06-22T16:24:45.743640Z",
     "iopub.status.idle": "2021-06-22T16:24:45.747058Z",
     "shell.execute_reply": "2021-06-22T16:24:45.747554Z",
     "shell.execute_reply.started": "2021-06-22T14:14:39.825216Z"
    },
    "papermill": {
     "duration": 0.075694,
     "end_time": "2021-06-22T16:24:45.747743",
     "exception": false,
     "start_time": "2021-06-22T16:24:45.672049",
     "status": "completed"
    },
    "tags": []
   },
   "outputs": [],
   "source": [
    "# compute tag given tag: tag2(t2) given tag1 (t1) : Transition Probability\n",
    "def t2_given_t1(t2, t1, train_bag = train_tagged_words):\n",
    "    \n",
    "    # Calculate no.of times tag t1 appears\n",
    "    tags = [pair[1] for pair in train_bag]\n",
    "    count_t1 = len([t for t in tags if t==t1])\n",
    "    \n",
    "    # Calculate no.of times t1 is followed by tag t2\n",
    "    count_t2_t1 = 0\n",
    "    for index in range(len(tags)-1):\n",
    "        if tags[index]==t1 and tags[index+1] == t2:\n",
    "            count_t2_t1 += 1\n",
    "    return (count_t2_t1, count_t1)"
   ]
  },
  {
   "cell_type": "code",
   "execution_count": 15,
   "id": "fossil-scout",
   "metadata": {
    "execution": {
     "iopub.execute_input": "2021-06-22T16:24:45.876358Z",
     "iopub.status.busy": "2021-06-22T16:24:45.871061Z",
     "iopub.status.idle": "2021-06-22T16:24:45.936450Z",
     "shell.execute_reply": "2021-06-22T16:24:45.935678Z",
     "shell.execute_reply.started": "2021-06-22T14:14:39.835911Z"
    },
    "papermill": {
     "duration": 0.131531,
     "end_time": "2021-06-22T16:24:45.936628",
     "exception": false,
     "start_time": "2021-06-22T16:24:45.805097",
     "status": "completed"
    },
    "tags": []
   },
   "outputs": [
    {
     "name": "stdout",
     "output_type": "stream",
     "text": [
      "(4234, 6077)\n",
      "(1429, 12885)\n",
      "(4058, 27423)\n"
     ]
    }
   ],
   "source": [
    "# examples\n",
    "print(t2_given_t1('NOUN', 'ADJ'))\n",
    "print(t2_given_t1('NOUN', 'VERB'))\n",
    "print(t2_given_t1('VERB', 'NOUN'))\n"
   ]
  },
  {
   "cell_type": "code",
   "execution_count": 16,
   "id": "heard-final",
   "metadata": {
    "execution": {
     "iopub.execute_input": "2021-06-22T16:24:46.071611Z",
     "iopub.status.busy": "2021-06-22T16:24:46.066265Z",
     "iopub.status.idle": "2021-06-22T16:24:46.119559Z",
     "shell.execute_reply": "2021-06-22T16:24:46.120139Z",
     "shell.execute_reply.started": "2021-06-22T14:14:39.923867Z"
    },
    "papermill": {
     "duration": 0.125311,
     "end_time": "2021-06-22T16:24:46.120321",
     "exception": false,
     "start_time": "2021-06-22T16:24:45.995010",
     "status": "completed"
    },
    "tags": []
   },
   "outputs": [
    {
     "name": "stdout",
     "output_type": "stream",
     "text": [
      "(1929, 11118)\n",
      "(2481, 11118)\n",
      "(984, 11118)\n"
     ]
    }
   ],
   "source": [
    "# Please note P(tag|start) is same as P(tag|'.')\n",
    "print(t2_given_t1('DET', '.'))\n",
    "print(t2_given_t1('NOUN', '.'))\n",
    "print(t2_given_t1('VERB', '.'))"
   ]
  },
  {
   "cell_type": "code",
   "execution_count": 17,
   "id": "solid-donna",
   "metadata": {
    "execution": {
     "iopub.execute_input": "2021-06-22T16:24:46.257199Z",
     "iopub.status.busy": "2021-06-22T16:24:46.251532Z",
     "iopub.status.idle": "2021-06-22T16:24:51.405837Z",
     "shell.execute_reply": "2021-06-22T16:24:51.405113Z",
     "shell.execute_reply.started": "2021-06-22T14:14:40.001848Z"
    },
    "papermill": {
     "duration": 5.22812,
     "end_time": "2021-06-22T16:24:51.405993",
     "exception": false,
     "start_time": "2021-06-22T16:24:46.177873",
     "status": "completed"
    },
    "tags": []
   },
   "outputs": [
    {
     "data": {
      "text/plain": [
       "array([[9.38118398e-02, 4.49721180e-02, 9.11135077e-02, 5.20777106e-02,\n",
       "        5.79240881e-02, 1.73502430e-01, 2.23151639e-01, 8.05000886e-02,\n",
       "        6.53894618e-02, 2.33855005e-03, 8.85051265e-02, 2.66234931e-02],\n",
       "       [6.53282851e-02, 6.66447282e-02, 7.89863393e-02, 4.60753683e-03,\n",
       "        1.69491526e-02, 5.10120112e-03, 6.96725368e-01, 2.04048045e-02,\n",
       "        6.58219506e-04, 1.08606219e-02, 1.23416157e-02, 2.13921349e-02],\n",
       "       [3.94863561e-02, 1.05296947e-01, 1.72284637e-02, 1.31621184e-02,\n",
       "        8.56072758e-04, 3.26377749e-01, 3.21776360e-01, 6.29213452e-02,\n",
       "        6.91278726e-02, 1.49812736e-03, 8.23970046e-03, 3.40288915e-02],\n",
       "       [1.36877075e-01, 1.30232558e-01, 1.19601332e-01, 8.10631216e-02,\n",
       "        6.31229253e-03, 6.71096370e-02, 3.08970101e-02, 3.05647831e-02,\n",
       "        1.56146176e-02, 1.36212623e-02, 3.44518274e-01, 2.35880390e-02],\n",
       "       [3.42562161e-02, 1.16846554e-01, 5.44345379e-02, 5.58423288e-02,\n",
       "        4.69263265e-04, 1.21539183e-01, 3.49131852e-01, 4.22336943e-02,\n",
       "        5.86579069e-02, 4.69263270e-03, 1.53918341e-01, 7.97747541e-03],\n",
       "       [1.79864801e-02, 2.04973444e-01, 9.05359723e-03, 1.23128919e-02,\n",
       "        4.82858537e-04, 5.31144394e-03, 6.40028954e-01, 2.19700634e-02,\n",
       "        3.74215352e-03, 2.41429268e-04, 3.83872539e-02, 4.55094166e-02],\n",
       "       [2.39178792e-01, 1.22889541e-02, 1.76275387e-01, 1.68836378e-02,\n",
       "        4.19356003e-02, 1.33099956e-02, 2.64631867e-01, 9.62695573e-03,\n",
       "        4.92287474e-03, 4.38318215e-02, 1.47977978e-01, 2.91361269e-02],\n",
       "       [1.18346713e-01, 3.41956578e-02, 3.47903669e-02, 2.97353556e-03,\n",
       "        1.33809103e-02, 3.27088917e-03, 3.55337501e-01, 1.84061855e-01,\n",
       "        1.48676778e-03, 2.79512331e-02, 1.75438598e-02, 2.06660718e-01],\n",
       "       [4.12528664e-02, 7.48663098e-02, 2.29182579e-02, 3.39954160e-02,\n",
       "        4.96562244e-03, 9.54927411e-03, 2.11229950e-01, 7.25744851e-03,\n",
       "        8.02139007e-03, 1.22230714e-02, 4.80901450e-01, 9.28189456e-02],\n",
       "       [4.15168367e-02, 8.63027126e-02, 2.15756781e-02, 1.01340311e-02,\n",
       "        2.28832942e-03, 1.00359596e-01, 2.42562935e-01, 5.85158542e-02,\n",
       "        1.89604443e-02, 1.63452106e-03, 4.02745992e-01, 1.34030730e-02],\n",
       "       [3.53123769e-02, 6.46488145e-02, 9.04928222e-02, 8.25766400e-02,\n",
       "        5.58789307e-03, 1.33100510e-01, 1.10904150e-01, 2.28172299e-02,\n",
       "        3.62436958e-02, 3.11214589e-02, 1.69188976e-01, 2.18005434e-01],\n",
       "       [1.63798600e-01, 1.65710635e-02, 1.42925426e-01, 2.51752716e-02,\n",
       "        1.03569152e-02, 5.51306568e-02, 6.13448061e-02, 2.70873168e-03,\n",
       "        5.60866781e-02, 1.85787126e-01, 2.03632891e-01, 7.64818341e-02]],\n",
       "      dtype=float32)"
      ]
     },
     "execution_count": 17,
     "metadata": {},
     "output_type": "execute_result"
    }
   ],
   "source": [
    "# creating t x t transition matrix of tags\n",
    "# each column is t2, each row is t1\n",
    "# thus M(i, j) represents P(tj given ti)\n",
    "\n",
    "tags_matrix = np.zeros((len(T), len(T)), dtype='float32')\n",
    "for i, t1 in enumerate(list(T)):\n",
    "    for j, t2 in enumerate(list(T)): \n",
    "        tags_matrix[i, j] = t2_given_t1(t2, t1)[0]/t2_given_t1(t2, t1)[1]\n",
    "\n",
    "tags_matrix"
   ]
  },
  {
   "cell_type": "code",
   "execution_count": 18,
   "id": "headed-lending",
   "metadata": {
    "execution": {
     "iopub.execute_input": "2021-06-22T16:24:51.535943Z",
     "iopub.status.busy": "2021-06-22T16:24:51.535221Z",
     "iopub.status.idle": "2021-06-22T16:24:51.567257Z",
     "shell.execute_reply": "2021-06-22T16:24:51.566737Z",
     "shell.execute_reply.started": "2021-06-22T14:14:46.098287Z"
    },
    "papermill": {
     "duration": 0.104331,
     "end_time": "2021-06-22T16:24:51.567408",
     "exception": false,
     "start_time": "2021-06-22T16:24:51.463077",
     "status": "completed"
    },
    "tags": []
   },
   "outputs": [
    {
     "data": {
      "text/html": [
       "<div>\n",
       "<style scoped>\n",
       "    .dataframe tbody tr th:only-of-type {\n",
       "        vertical-align: middle;\n",
       "    }\n",
       "\n",
       "    .dataframe tbody tr th {\n",
       "        vertical-align: top;\n",
       "    }\n",
       "\n",
       "    .dataframe thead th {\n",
       "        text-align: right;\n",
       "    }\n",
       "</style>\n",
       "<table border=\"1\" class=\"dataframe\">\n",
       "  <thead>\n",
       "    <tr style=\"text-align: right;\">\n",
       "      <th></th>\n",
       "      <th>.</th>\n",
       "      <th>ADJ</th>\n",
       "      <th>ADP</th>\n",
       "      <th>ADV</th>\n",
       "      <th>CONJ</th>\n",
       "      <th>DET</th>\n",
       "      <th>NOUN</th>\n",
       "      <th>NUM</th>\n",
       "      <th>PRON</th>\n",
       "      <th>PRT</th>\n",
       "      <th>VERB</th>\n",
       "      <th>X</th>\n",
       "    </tr>\n",
       "  </thead>\n",
       "  <tbody>\n",
       "    <tr>\n",
       "      <th>.</th>\n",
       "      <td>0.093812</td>\n",
       "      <td>0.044972</td>\n",
       "      <td>0.091114</td>\n",
       "      <td>0.052078</td>\n",
       "      <td>0.057924</td>\n",
       "      <td>0.173502</td>\n",
       "      <td>0.223152</td>\n",
       "      <td>0.080500</td>\n",
       "      <td>0.065389</td>\n",
       "      <td>0.002339</td>\n",
       "      <td>0.088505</td>\n",
       "      <td>0.026623</td>\n",
       "    </tr>\n",
       "    <tr>\n",
       "      <th>ADJ</th>\n",
       "      <td>0.065328</td>\n",
       "      <td>0.066645</td>\n",
       "      <td>0.078986</td>\n",
       "      <td>0.004608</td>\n",
       "      <td>0.016949</td>\n",
       "      <td>0.005101</td>\n",
       "      <td>0.696725</td>\n",
       "      <td>0.020405</td>\n",
       "      <td>0.000658</td>\n",
       "      <td>0.010861</td>\n",
       "      <td>0.012342</td>\n",
       "      <td>0.021392</td>\n",
       "    </tr>\n",
       "    <tr>\n",
       "      <th>ADP</th>\n",
       "      <td>0.039486</td>\n",
       "      <td>0.105297</td>\n",
       "      <td>0.017228</td>\n",
       "      <td>0.013162</td>\n",
       "      <td>0.000856</td>\n",
       "      <td>0.326378</td>\n",
       "      <td>0.321776</td>\n",
       "      <td>0.062921</td>\n",
       "      <td>0.069128</td>\n",
       "      <td>0.001498</td>\n",
       "      <td>0.008240</td>\n",
       "      <td>0.034029</td>\n",
       "    </tr>\n",
       "    <tr>\n",
       "      <th>ADV</th>\n",
       "      <td>0.136877</td>\n",
       "      <td>0.130233</td>\n",
       "      <td>0.119601</td>\n",
       "      <td>0.081063</td>\n",
       "      <td>0.006312</td>\n",
       "      <td>0.067110</td>\n",
       "      <td>0.030897</td>\n",
       "      <td>0.030565</td>\n",
       "      <td>0.015615</td>\n",
       "      <td>0.013621</td>\n",
       "      <td>0.344518</td>\n",
       "      <td>0.023588</td>\n",
       "    </tr>\n",
       "    <tr>\n",
       "      <th>CONJ</th>\n",
       "      <td>0.034256</td>\n",
       "      <td>0.116847</td>\n",
       "      <td>0.054435</td>\n",
       "      <td>0.055842</td>\n",
       "      <td>0.000469</td>\n",
       "      <td>0.121539</td>\n",
       "      <td>0.349132</td>\n",
       "      <td>0.042234</td>\n",
       "      <td>0.058658</td>\n",
       "      <td>0.004693</td>\n",
       "      <td>0.153918</td>\n",
       "      <td>0.007977</td>\n",
       "    </tr>\n",
       "    <tr>\n",
       "      <th>DET</th>\n",
       "      <td>0.017986</td>\n",
       "      <td>0.204973</td>\n",
       "      <td>0.009054</td>\n",
       "      <td>0.012313</td>\n",
       "      <td>0.000483</td>\n",
       "      <td>0.005311</td>\n",
       "      <td>0.640029</td>\n",
       "      <td>0.021970</td>\n",
       "      <td>0.003742</td>\n",
       "      <td>0.000241</td>\n",
       "      <td>0.038387</td>\n",
       "      <td>0.045509</td>\n",
       "    </tr>\n",
       "    <tr>\n",
       "      <th>NOUN</th>\n",
       "      <td>0.239179</td>\n",
       "      <td>0.012289</td>\n",
       "      <td>0.176275</td>\n",
       "      <td>0.016884</td>\n",
       "      <td>0.041936</td>\n",
       "      <td>0.013310</td>\n",
       "      <td>0.264632</td>\n",
       "      <td>0.009627</td>\n",
       "      <td>0.004923</td>\n",
       "      <td>0.043832</td>\n",
       "      <td>0.147978</td>\n",
       "      <td>0.029136</td>\n",
       "    </tr>\n",
       "    <tr>\n",
       "      <th>NUM</th>\n",
       "      <td>0.118347</td>\n",
       "      <td>0.034196</td>\n",
       "      <td>0.034790</td>\n",
       "      <td>0.002974</td>\n",
       "      <td>0.013381</td>\n",
       "      <td>0.003271</td>\n",
       "      <td>0.355338</td>\n",
       "      <td>0.184062</td>\n",
       "      <td>0.001487</td>\n",
       "      <td>0.027951</td>\n",
       "      <td>0.017544</td>\n",
       "      <td>0.206661</td>\n",
       "    </tr>\n",
       "    <tr>\n",
       "      <th>PRON</th>\n",
       "      <td>0.041253</td>\n",
       "      <td>0.074866</td>\n",
       "      <td>0.022918</td>\n",
       "      <td>0.033995</td>\n",
       "      <td>0.004966</td>\n",
       "      <td>0.009549</td>\n",
       "      <td>0.211230</td>\n",
       "      <td>0.007257</td>\n",
       "      <td>0.008021</td>\n",
       "      <td>0.012223</td>\n",
       "      <td>0.480901</td>\n",
       "      <td>0.092819</td>\n",
       "    </tr>\n",
       "    <tr>\n",
       "      <th>PRT</th>\n",
       "      <td>0.041517</td>\n",
       "      <td>0.086303</td>\n",
       "      <td>0.021576</td>\n",
       "      <td>0.010134</td>\n",
       "      <td>0.002288</td>\n",
       "      <td>0.100360</td>\n",
       "      <td>0.242563</td>\n",
       "      <td>0.058516</td>\n",
       "      <td>0.018960</td>\n",
       "      <td>0.001635</td>\n",
       "      <td>0.402746</td>\n",
       "      <td>0.013403</td>\n",
       "    </tr>\n",
       "    <tr>\n",
       "      <th>VERB</th>\n",
       "      <td>0.035312</td>\n",
       "      <td>0.064649</td>\n",
       "      <td>0.090493</td>\n",
       "      <td>0.082577</td>\n",
       "      <td>0.005588</td>\n",
       "      <td>0.133101</td>\n",
       "      <td>0.110904</td>\n",
       "      <td>0.022817</td>\n",
       "      <td>0.036244</td>\n",
       "      <td>0.031121</td>\n",
       "      <td>0.169189</td>\n",
       "      <td>0.218005</td>\n",
       "    </tr>\n",
       "    <tr>\n",
       "      <th>X</th>\n",
       "      <td>0.163799</td>\n",
       "      <td>0.016571</td>\n",
       "      <td>0.142925</td>\n",
       "      <td>0.025175</td>\n",
       "      <td>0.010357</td>\n",
       "      <td>0.055131</td>\n",
       "      <td>0.061345</td>\n",
       "      <td>0.002709</td>\n",
       "      <td>0.056087</td>\n",
       "      <td>0.185787</td>\n",
       "      <td>0.203633</td>\n",
       "      <td>0.076482</td>\n",
       "    </tr>\n",
       "  </tbody>\n",
       "</table>\n",
       "</div>"
      ],
      "text/plain": [
       "             .       ADJ       ADP       ADV      CONJ       DET      NOUN  \\\n",
       ".     0.093812  0.044972  0.091114  0.052078  0.057924  0.173502  0.223152   \n",
       "ADJ   0.065328  0.066645  0.078986  0.004608  0.016949  0.005101  0.696725   \n",
       "ADP   0.039486  0.105297  0.017228  0.013162  0.000856  0.326378  0.321776   \n",
       "ADV   0.136877  0.130233  0.119601  0.081063  0.006312  0.067110  0.030897   \n",
       "CONJ  0.034256  0.116847  0.054435  0.055842  0.000469  0.121539  0.349132   \n",
       "DET   0.017986  0.204973  0.009054  0.012313  0.000483  0.005311  0.640029   \n",
       "NOUN  0.239179  0.012289  0.176275  0.016884  0.041936  0.013310  0.264632   \n",
       "NUM   0.118347  0.034196  0.034790  0.002974  0.013381  0.003271  0.355338   \n",
       "PRON  0.041253  0.074866  0.022918  0.033995  0.004966  0.009549  0.211230   \n",
       "PRT   0.041517  0.086303  0.021576  0.010134  0.002288  0.100360  0.242563   \n",
       "VERB  0.035312  0.064649  0.090493  0.082577  0.005588  0.133101  0.110904   \n",
       "X     0.163799  0.016571  0.142925  0.025175  0.010357  0.055131  0.061345   \n",
       "\n",
       "           NUM      PRON       PRT      VERB         X  \n",
       ".     0.080500  0.065389  0.002339  0.088505  0.026623  \n",
       "ADJ   0.020405  0.000658  0.010861  0.012342  0.021392  \n",
       "ADP   0.062921  0.069128  0.001498  0.008240  0.034029  \n",
       "ADV   0.030565  0.015615  0.013621  0.344518  0.023588  \n",
       "CONJ  0.042234  0.058658  0.004693  0.153918  0.007977  \n",
       "DET   0.021970  0.003742  0.000241  0.038387  0.045509  \n",
       "NOUN  0.009627  0.004923  0.043832  0.147978  0.029136  \n",
       "NUM   0.184062  0.001487  0.027951  0.017544  0.206661  \n",
       "PRON  0.007257  0.008021  0.012223  0.480901  0.092819  \n",
       "PRT   0.058516  0.018960  0.001635  0.402746  0.013403  \n",
       "VERB  0.022817  0.036244  0.031121  0.169189  0.218005  \n",
       "X     0.002709  0.056087  0.185787  0.203633  0.076482  "
      ]
     },
     "execution_count": 18,
     "metadata": {},
     "output_type": "execute_result"
    }
   ],
   "source": [
    "# convert the matrix to a dataframe for better readability\n",
    "tags_df = pd.DataFrame(tags_matrix, columns = list(T), index=list(T))\n",
    "tags_df"
   ]
  },
  {
   "cell_type": "code",
   "execution_count": 19,
   "id": "disciplinary-lebanon",
   "metadata": {
    "execution": {
     "iopub.execute_input": "2021-06-22T16:24:51.694785Z",
     "iopub.status.busy": "2021-06-22T16:24:51.693819Z",
     "iopub.status.idle": "2021-06-22T16:24:51.698702Z",
     "shell.execute_reply": "2021-06-22T16:24:51.698046Z",
     "shell.execute_reply.started": "2021-06-22T14:14:46.150421Z"
    },
    "papermill": {
     "duration": 0.071774,
     "end_time": "2021-06-22T16:24:51.698849",
     "exception": false,
     "start_time": "2021-06-22T16:24:51.627075",
     "status": "completed"
    },
    "tags": []
   },
   "outputs": [
    {
     "data": {
      "text/plain": [
       ".       0.093812\n",
       "ADJ     0.044972\n",
       "ADP     0.091114\n",
       "ADV     0.052078\n",
       "CONJ    0.057924\n",
       "DET     0.173502\n",
       "NOUN    0.223152\n",
       "NUM     0.080500\n",
       "PRON    0.065389\n",
       "PRT     0.002339\n",
       "VERB    0.088505\n",
       "X       0.026623\n",
       "Name: ., dtype: float32"
      ]
     },
     "execution_count": 19,
     "metadata": {},
     "output_type": "execute_result"
    }
   ],
   "source": [
    "tags_df.loc['.', :]"
   ]
  },
  {
   "cell_type": "code",
   "execution_count": 20,
   "id": "dietary-pulse",
   "metadata": {
    "execution": {
     "iopub.execute_input": "2021-06-22T16:24:51.843605Z",
     "iopub.status.busy": "2021-06-22T16:24:51.839547Z",
     "iopub.status.idle": "2021-06-22T16:24:52.889886Z",
     "shell.execute_reply": "2021-06-22T16:24:52.890433Z",
     "shell.execute_reply.started": "2021-06-22T14:14:46.162027Z"
    },
    "papermill": {
     "duration": 1.132537,
     "end_time": "2021-06-22T16:24:52.890902",
     "exception": false,
     "start_time": "2021-06-22T16:24:51.758365",
     "status": "completed"
    },
    "tags": []
   },
   "outputs": [
    {
     "data": {
      "image/png": "[encoded data removed]",
      "text/plain": [
       "<Figure size 1008x360 with 2 Axes>"
      ]
     },
     "metadata": {
      "needs_background": "light"
     },
     "output_type": "display_data"
    }
   ],
   "source": [
    "# heatmap of tags matrix\n",
    "plt.figure(figsize=(14, 5))\n",
    "sns.heatmap(tags_df, annot=True,cmap=\"YlGnBu\")\n",
    "plt.show()"
   ]
  },
  {
   "cell_type": "code",
   "execution_count": 21,
   "id": "tamil-quest",
   "metadata": {
    "execution": {
     "iopub.execute_input": "2021-06-22T16:24:53.051688Z",
     "iopub.status.busy": "2021-06-22T16:24:53.050992Z",
     "iopub.status.idle": "2021-06-22T16:24:53.381830Z",
     "shell.execute_reply": "2021-06-22T16:24:53.381152Z",
     "shell.execute_reply.started": "2021-06-22T14:14:47.413278Z"
    },
    "papermill": {
     "duration": 0.401713,
     "end_time": "2021-06-22T16:24:53.381979",
     "exception": false,
     "start_time": "2021-06-22T16:24:52.980266",
     "status": "completed"
    },
    "tags": []
   },
   "outputs": [
    {
     "data": {
      "image/png": "[encoded data removed]",
      "text/plain": [
       "<Figure size 1008x360 with 2 Axes>"
      ]
     },
     "metadata": {
      "needs_background": "light"
     },
     "output_type": "display_data"
    }
   ],
   "source": [
    "# filter df to get P(t2, t1) > 0.5\n",
    "tags_frequent = tags_df[tags_df>0.5]\n",
    "plt.figure(figsize=(14,5))\n",
    "sns.heatmap(tags_frequent,annot = True,cmap=\"YlGnBu\")\n",
    "plt.show()"
   ]
  },
  {
   "cell_type": "markdown",
   "id": "promotional-target",
   "metadata": {
    "papermill": {
     "duration": 0.066014,
     "end_time": "2021-06-22T16:24:53.512340",
     "exception": false,
     "start_time": "2021-06-22T16:24:53.446326",
     "status": "completed"
    },
    "tags": []
   },
   "source": [
    "**Observations:** \n",
    "\n",
    " - As seen from above heatmap,most of the transition probabilities are between Noun and other parts of speech such as Adjective and Determinant."
   ]
  },
  {
   "cell_type": "markdown",
   "id": "signal-parade",
   "metadata": {
    "papermill": {
     "duration": 0.063477,
     "end_time": "2021-06-22T16:24:53.641251",
     "exception": false,
     "start_time": "2021-06-22T16:24:53.577774",
     "status": "completed"
    },
    "tags": []
   },
   "source": [
    "### Build the vanilla Viterbi based POS tagger\n",
    "\n",
    "\n",
    "Let's now use the computed probabilities P(w, tag) and P(t2, t1) to assign tags to each word in the document. We'll run through each word w and compute P(tag/w)=P(w/tag).P(tag) for each tag in the tag set, and then assign the tag having the max P(tag/w).\n",
    "\n",
    "We'll store the assigned tags in a list of tuples, similar to the list 'train_tagged_words'. Each tuple will be a (token, assigned_tag). As we progress further in the list, each tag to be assigned will use the tag of the previous token."
   ]
  },
  {
   "cell_type": "code",
   "execution_count": 22,
   "id": "vulnerable-observation",
   "metadata": {
    "execution": {
     "iopub.execute_input": "2021-06-22T16:24:53.778840Z",
     "iopub.status.busy": "2021-06-22T16:24:53.778019Z",
     "iopub.status.idle": "2021-06-22T16:24:53.781512Z",
     "shell.execute_reply": "2021-06-22T16:24:53.780838Z",
     "shell.execute_reply.started": "2021-06-22T14:14:47.784620Z"
    },
    "papermill": {
     "duration": 0.07704,
     "end_time": "2021-06-22T16:24:53.781676",
     "exception": false,
     "start_time": "2021-06-22T16:24:53.704636",
     "status": "completed"
    },
    "tags": []
   },
   "outputs": [],
   "source": [
    "# Viterbi Heuristic\n",
    "def Viterbi(words, train_bag = train_tagged_words):\n",
    "    state = []\n",
    "    \n",
    "    # list of unique tags present in the corpus\n",
    "    T = sorted(list(set([pair[1] for pair in train_bag])))\n",
    "        \n",
    "    for key, word in enumerate(words):\n",
    "        #initialise list of probability column for a given observation\n",
    "        p = []\n",
    "        \n",
    "        for tag in T:\n",
    "            if key == 0: #first word has key=0\n",
    "                transition_p = tags_df.loc['.', tag]                 \n",
    "            else:\n",
    "                transition_p = tags_df.loc[state[-1], tag]\n",
    "                \n",
    "            # compute emission and state probabilities\n",
    "            emission_p = word_given_tag(words[key], tag)[0]/word_given_tag(words[key], tag)[1]\n",
    "            state_probability = emission_p * transition_p    \n",
    "            p.append(state_probability)\n",
    "            \n",
    "        pmax = max(p)\n",
    "        # getting state for which probability is maximum\n",
    "        state_max = T[p.index(pmax)]\n",
    "        state.append(state_max)\n",
    "    return list(zip(words, state))"
   ]
  },
  {
   "cell_type": "code",
   "execution_count": 23,
   "id": "promising-boulder",
   "metadata": {
    "execution": {
     "iopub.execute_input": "2021-06-22T16:24:53.913952Z",
     "iopub.status.busy": "2021-06-22T16:24:53.913207Z",
     "iopub.status.idle": "2021-06-22T16:24:53.916870Z",
     "shell.execute_reply": "2021-06-22T16:24:53.916271Z",
     "shell.execute_reply.started": "2021-06-22T14:14:47.797936Z"
    },
    "papermill": {
     "duration": 0.072277,
     "end_time": "2021-06-22T16:24:53.917025",
     "exception": false,
     "start_time": "2021-06-22T16:24:53.844748",
     "status": "completed"
    },
    "tags": []
   },
   "outputs": [],
   "source": [
    "# Let's test our Viterbi algorithm on the validation dataset which is 5% of the entire dataset\n",
    "\n",
    "random.seed(1234)\n",
    "\n",
    "\n",
    "# list of tagged words\n",
    "test_run_base = [tup for sent in test_set for tup in sent]\n",
    "\n",
    "# list of untagged words\n",
    "test_tagged_words = [tup[0] for sent in test_set for tup in sent]"
   ]
  },
  {
   "cell_type": "code",
   "execution_count": 24,
   "id": "impossible-welding",
   "metadata": {
    "execution": {
     "iopub.execute_input": "2021-06-22T16:24:54.099402Z",
     "iopub.status.busy": "2021-06-22T16:24:54.062935Z",
     "iopub.status.idle": "2021-06-22T16:44:34.271965Z",
     "shell.execute_reply": "2021-06-22T16:44:34.271289Z",
     "shell.execute_reply.started": "2021-06-22T14:14:47.819737Z"
    },
    "papermill": {
     "duration": 1180.29189,
     "end_time": "2021-06-22T16:44:34.272144",
     "exception": false,
     "start_time": "2021-06-22T16:24:53.980254",
     "status": "completed"
    },
    "tags": []
   },
   "outputs": [],
   "source": [
    "# tagging the test sentences\n",
    "start = time.time()\n",
    "tagged_seq = Viterbi(test_tagged_words)\n",
    "end = time.time()\n",
    "difference = end-start"
   ]
  },
  {
   "cell_type": "code",
   "execution_count": 25,
   "id": "killing-pocket",
   "metadata": {
    "execution": {
     "iopub.execute_input": "2021-06-22T16:44:34.410377Z",
     "iopub.status.busy": "2021-06-22T16:44:34.408716Z",
     "iopub.status.idle": "2021-06-22T16:44:34.412973Z",
     "shell.execute_reply": "2021-06-22T16:44:34.413464Z",
     "shell.execute_reply.started": "2021-06-22T14:40:16.310800Z"
    },
    "papermill": {
     "duration": 0.074935,
     "end_time": "2021-06-22T16:44:34.413656",
     "exception": false,
     "start_time": "2021-06-22T16:44:34.338721",
     "status": "completed"
    },
    "tags": []
   },
   "outputs": [
    {
     "name": "stdout",
     "output_type": "stream",
     "text": [
      "Time taken in seconds:  1180.2186784744263\n"
     ]
    }
   ],
   "source": [
    "print(\"Time taken in seconds: \", difference)"
   ]
  },
  {
   "cell_type": "code",
   "execution_count": 26,
   "id": "serial-spray",
   "metadata": {
    "execution": {
     "iopub.execute_input": "2021-06-22T16:44:34.545147Z",
     "iopub.status.busy": "2021-06-22T16:44:34.544322Z",
     "iopub.status.idle": "2021-06-22T16:44:34.547804Z",
     "shell.execute_reply": "2021-06-22T16:44:34.548851Z",
     "shell.execute_reply.started": "2021-06-22T14:40:16.318502Z"
    },
    "papermill": {
     "duration": 0.073981,
     "end_time": "2021-06-22T16:44:34.549102",
     "exception": false,
     "start_time": "2021-06-22T16:44:34.475121",
     "status": "completed"
    },
    "tags": []
   },
   "outputs": [
    {
     "name": "stdout",
     "output_type": "stream",
     "text": [
      "The accuracy of the Vanilla Viterbi Algorithm is - 0.9138981718104974\n"
     ]
    }
   ],
   "source": [
    "# Let's check the accuracy of the vanilla viterbi algorithm\n",
    "vanilla_viterbi_word_check = [i for i, j in zip(tagged_seq, test_run_base) if i == j] \n",
    "vanilla_viterbi_accuracy = len(vanilla_viterbi_word_check)/len(tagged_seq)\n",
    "print(\"The accuracy of the Vanilla Viterbi Algorithm is -\", vanilla_viterbi_accuracy)"
   ]
  },
  {
   "cell_type": "code",
   "execution_count": 27,
   "id": "prepared-syndicate",
   "metadata": {
    "execution": {
     "iopub.execute_input": "2021-06-22T16:44:34.685909Z",
     "iopub.status.busy": "2021-06-22T16:44:34.685181Z",
     "iopub.status.idle": "2021-06-22T16:44:34.690167Z",
     "shell.execute_reply": "2021-06-22T16:44:34.689245Z",
     "shell.execute_reply.started": "2021-06-22T14:40:16.338816Z"
    },
    "papermill": {
     "duration": 0.077365,
     "end_time": "2021-06-22T16:44:34.690373",
     "exception": false,
     "start_time": "2021-06-22T16:44:34.613008",
     "status": "completed"
    },
    "tags": []
   },
   "outputs": [
    {
     "name": "stdout",
     "output_type": "stream",
     "text": [
      "Total Incorrect Tagged Words : 438\n",
      "\n",
      "\n",
      "Incorrect Tagged Words : [(('trade', 'VERB'), ('trade', 'NOUN')), (('Overseas', '.'), ('Overseas', 'NOUN')), (('Private', 'ADJ'), ('Private', 'NOUN')), (('pre-1917', '.'), ('pre-1917', 'ADJ')), (('Unemployment', '.'), ('Unemployment', 'NOUN')), (('purchasing', 'NOUN'), ('purchasing', 'VERB')), (('paycheck', '.'), ('paycheck', 'NOUN')), (('reasonably', '.'), ('reasonably', 'ADV')), (('though', 'ADP'), ('though', 'ADV')), (('close', 'NOUN'), ('close', 'ADJ')), (('more', 'ADV'), ('more', 'ADJ')), (('Funded', '.'), ('Funded', 'VERB')), (('Tokio', '.'), ('Tokio', 'NOUN')), (('protocols', '.'), ('protocols', 'NOUN')), (('preventative', '.'), ('preventative', 'ADJ')), (('existed', '.'), ('existed', 'VERB')), (('20.5', '.'), ('20.5', 'NUM')), (('polarized', '.'), ('polarized', 'VERB')), (('so', 'ADV'), ('so', 'ADP')), (('exists', '.'), ('exists', 'VERB')), (('middle', 'NOUN'), ('middle', 'ADJ')), (('Though', '.'), ('Though', 'ADP')), (('acquirers', '.'), ('acquirers', 'NOUN')), (('noticed', '.'), ('noticed', 'VERB')), (('154.2', '.'), ('154.2', 'NUM')), (('chalk', '.'), ('chalk', 'NOUN')), (('first', 'ADJ'), ('first', 'ADV')), (('touched', '.'), ('touched', 'VERB')), (('slate', '.'), ('slate', 'NOUN')), (('schoolchildren', '.'), ('schoolchildren', 'NOUN')), (('Catch-22', '.'), ('Catch-22', 'NOUN')), (('cross-border', '.'), ('cross-border', 'ADJ')), (('emigres', '.'), ('emigres', 'NOUN')), (('*T*-133', '.'), ('*T*-133', 'X')), (('checking', 'NOUN'), ('checking', 'VERB')), (('safe', '.'), ('safe', 'ADJ')), (('plus', 'CONJ'), ('plus', 'ADV')), (('apologizing', '.'), ('apologizing', 'VERB')), (('indulging', '.'), ('indulging', 'VERB')), (('1953', '.'), ('1953', 'NUM')), (('1955', '.'), ('1955', 'NUM')), (('homeless', 'ADJ'), ('homeless', 'NOUN')), (('pre-existing', '.'), ('pre-existing', 'ADJ')), (('addiction', '.'), ('addiction', 'NOUN')), (('1,200', '.'), ('1,200', 'NUM')), (('Mogavero', '.'), ('Mogavero', 'NOUN')), (('Piscataway', '.'), ('Piscataway', 'NOUN')), (('up', 'ADV'), ('up', 'PRT')), (('American-style', '.'), ('American-style', 'ADJ')), (('most', 'ADJ'), ('most', 'ADV')), (('that', 'ADP'), ('that', 'DET')), (('*T*-253', '.'), ('*T*-253', 'X')), (('exploit', '.'), ('exploit', 'VERB')), (('reds', '.'), ('reds', 'NOUN')), (('Rhone', '.'), ('Rhone', 'NOUN')), (('as', 'ADP'), ('as', 'ADV')), (('133.7', '.'), ('133.7', 'NUM')), (('94', '.'), ('94', 'NUM')), (('test', 'VERB'), ('test', 'NOUN')), (('out', 'PRT'), ('out', 'ADV')), (('copied', '.'), ('copied', 'VERB')), (('octogenarians', '.'), ('octogenarians', 'NOUN')), (('*T*-222', '.'), ('*T*-222', 'X')), (('sometimes-exhausting', '.'), ('sometimes-exhausting', 'ADJ')), (('sounding', '.'), ('sounding', 'VERB')), (('belfries', '.'), ('belfries', 'NOUN')), (('Anglia', '.'), ('Anglia', 'NOUN')), (('manmade-fiber', '.'), ('manmade-fiber', 'ADJ')), (('405', '.'), ('405', 'NUM')), (('*T*-102', '.'), ('*T*-102', 'X')), (('more', 'ADV'), ('more', 'ADJ')), (('Communication', '.'), ('Communication', 'NOUN')), (('importer', '.'), ('importer', 'NOUN')), (('last', 'ADJ'), ('last', 'VERB')), (('develops', '.'), ('develops', 'VERB')), (('markets', 'NOUN'), ('markets', 'VERB')), (('low-cost', '.'), ('low-cost', 'ADJ')), (('waived', '.'), ('waived', 'VERB')), (('supplemental', '.'), ('supplemental', 'ADJ')), (('anti-drug', '.'), ('anti-drug', 'ADJ')), (('bearing', 'VERB'), ('bearing', 'NOUN')), (('work', 'VERB'), ('work', 'NOUN')), (('force', 'VERB'), ('force', 'NOUN')), (('that', 'DET'), ('that', 'ADP')), (('principal', 'NOUN'), ('principal', 'ADJ')), (('red-flag', '.'), ('red-flag', 'VERB')), (('*T*-128', '.'), ('*T*-128', 'X')), (('*T*-129', '.'), ('*T*-129', 'X')), (('computer-generated', '.'), ('computer-generated', 'ADJ')), (('certified', '.'), ('certified', 'ADJ')), (('mail', '.'), ('mail', 'NOUN')), (('veto', 'NOUN'), ('veto', 'VERB')), (('containing', '.'), ('containing', 'VERB')), (('alternatively', '.'), ('alternatively', 'ADV')), (('sign', 'NOUN'), ('sign', 'VERB')), (('intrusions', '.'), ('intrusions', 'NOUN')), (('executive', 'NOUN'), ('executive', 'ADJ')), (('void', '.'), ('void', 'ADJ')), (('Sloan', '.'), ('Sloan', 'NOUN')), (('American', 'NOUN'), ('American', 'ADJ')), (('43.875', '.'), ('43.875', 'NUM')), (('mind', 'NOUN'), ('mind', 'VERB')), (('operating', 'NOUN'), ('operating', 'VERB')), (('shopped', '.'), ('shopped', 'VERB')), (('that', 'ADP'), ('that', 'DET')), (('helps', '.'), ('helps', 'VERB')), (('reluctance', '.'), ('reluctance', 'NOUN')), (('lobbies', '.'), ('lobbies', 'NOUN')), (('average', 'ADJ'), ('average', 'NOUN')), (('133.8', '.'), ('133.8', 'NUM')), (('2.47', '.'), ('2.47', 'NUM')), (('7.4', '.'), ('7.4', 'NUM')), (('2.30', '.'), ('2.30', 'NUM')), (('modification', '.'), ('modification', 'NOUN')), (('*-130', '.'), ('*-130', 'X')), (('opening', 'NOUN'), ('opening', 'VERB')), (('13.625', '.'), ('13.625', 'NUM')), (('out', 'PRT'), ('out', 'ADP')), (('that', 'ADP'), ('that', 'DET')), (('wield', '.'), ('wield', 'VERB')), (('Muzzling', '.'), ('Muzzling', 'ADJ')), (('blindfold', '.'), ('blindfold', 'NOUN')), (('executive', 'NOUN'), ('executive', 'ADJ')), (('recommending', '.'), ('recommending', 'VERB')), (('Anything', '.'), ('Anything', 'NOUN')), (('about', 'ADP'), ('about', 'PRT')), (('quips', '.'), ('quips', 'VERB')), (('Northampton', '.'), ('Northampton', 'NOUN')), (('protein', '.'), ('protein', 'NOUN')), (('Fundamentalists', '.'), ('Fundamentalists', 'NOUN')), (('air', 'VERB'), ('air', 'NOUN')), (('bags', '.'), ('bags', 'NOUN')), (('front', 'NOUN'), ('front', 'ADJ')), (('side-crash', '.'), ('side-crash', 'ADJ')), (('alleged', 'ADJ'), ('alleged', 'VERB')), (('workplace', '.'), ('workplace', 'NOUN')), (('word-processing', '.'), ('word-processing', 'NOUN')), (('Legend', '.'), ('Legend', 'NOUN')), (('multinational', '.'), ('multinational', 'ADJ')), (('Iran-Contra', '.'), ('Iran-Contra', 'NOUN')), (('wheel-loader', '.'), ('wheel-loader', 'ADJ')), (('Heidelberg', '.'), ('Heidelberg', 'NOUN')), (('drink', 'NOUN'), ('drink', 'VERB')), (('desultory', '.'), ('desultory', 'ADJ')), (('declines', 'VERB'), ('declines', 'NOUN')), (('distinguished', '.'), ('distinguished', 'VERB')), (('herself', '.'), ('herself', 'PRON')), (('approaches', '.'), ('approaches', 'NOUN')), (('forcing', 'VERB'), ('forcing', 'ADJ')), (('pair', '.'), ('pair', 'VERB')), (('up', 'ADV'), ('up', 'PRT')), (('college-bowl', '.'), ('college-bowl', 'NOUN')), (('competitions', '.'), ('competitions', 'NOUN')), (('coffee', '.'), ('coffee', 'NOUN')), (('spurring', '.'), ('spurring', 'VERB')), (('covers', 'VERB'), ('covers', 'NOUN')), (('Velcro', '.'), ('Velcro', 'NOUN')), (('that', 'ADP'), ('that', 'DET')), (('pins', 'VERB'), ('pins', 'NOUN')), (('estimates', 'VERB'), ('estimates', 'NOUN')), (('in', 'ADP'), ('in', 'PRT')), (('finance', 'NOUN'), ('finance', 'VERB')), (('non-core', '.'), ('non-core', 'ADJ')), (('off', 'PRT'), ('off', 'ADP')), (('platinum', '.'), ('platinum', 'NOUN')), (('more', 'ADV'), ('more', 'ADJ')), (('appropriated', '.'), ('appropriated', 'VERB')), (('twice', '.'), ('twice', 'ADV')), (('as', 'ADP'), ('as', 'ADV')), (('Johnson-era', '.'), ('Johnson-era', 'NOUN')), (('that', 'ADP'), ('that', 'DET')), (('mandates', '.'), ('mandates', 'VERB')), (('noncompetitively', '.'), ('noncompetitively', 'ADV')), (('concerned', '.'), ('concerned', 'VERB')), (('Wilfred', '.'), ('Wilfred', 'NOUN')), (('Corrigan', '.'), ('Corrigan', 'NOUN')), (('chief', 'NOUN'), ('chief', 'ADJ')), (('executive', 'NOUN'), ('executive', 'ADJ')), (('up', 'ADV'), ('up', 'PRT')), (('derivatives', '.'), ('derivatives', 'NOUN')), (('as', 'ADP'), ('as', 'ADV')), (('underlying', 'ADJ'), ('underlying', 'VERB')), (('more', 'ADV'), ('more', 'ADJ')), (('binders', '.'), ('binders', 'NOUN')), (('93.9', '.'), ('93.9', 'NUM')), (('1.19', '.'), ('1.19', 'NUM')), (('92.9', '.'), ('92.9', 'NUM')), (('1.18', '.'), ('1.18', 'NUM')), (('earlier', 'ADV'), ('earlier', 'ADJ')), (('Demand', '.'), ('Demand', 'NOUN')), (('due', 'ADJ'), ('due', 'ADV')), (('overseas', 'ADV'), ('overseas', 'ADJ')), (('apparent', '.'), ('apparent', 'ADJ')), (('slowing', 'VERB'), ('slowing', 'NOUN')), (('Berson', '.'), ('Berson', 'NOUN')), (('single-family', 'NOUN'), ('single-family', 'ADJ')), (('estimate', 'NOUN'), ('estimate', 'VERB')), (('razor-thin', '.'), ('razor-thin', 'ADJ')), (('fledgling', '.'), ('fledgling', 'NOUN')), (('depend', '.'), ('depend', 'VERB')), (('longevity', '.'), ('longevity', 'NOUN')), (('rarely', '.'), ('rarely', 'ADV')), (('acted', '.'), ('acted', 'VERB')), (('deplorable', '.'), ('deplorable', 'ADJ')), (('brushed', '.'), ('brushed', 'VERB')), (('off', 'ADP'), ('off', 'PRT')), (('renewing', '.'), ('renewing', 'VERB')), (('insurgents', '.'), ('insurgents', 'NOUN')), (('total', 'VERB'), ('total', 'ADJ')), (('topped', '.'), ('topped', 'VERB')), (('16.5', '.'), ('16.5', 'NUM')), (('that', 'ADP'), ('that', 'DET')), (('technically', '.'), ('technically', 'ADV')), (('limitation', '.'), ('limitation', 'NOUN')), (('leash', '.'), ('leash', 'NOUN')), (('No', 'DET'), ('No', 'ADV')), (('triple', '.'), ('triple', 'ADV')), (('Washington-based', '.'), ('Washington-based', 'ADJ')), (('sue', '.'), ('sue', 'VERB')), (('777', '.'), ('777', 'NUM')), (('Palestinian', 'ADJ'), ('Palestinian', 'NOUN')), (('first', 'ADJ'), ('first', 'ADV')), (('1.20', '.'), ('1.20', 'NUM')), (('1.14', '.'), ('1.14', 'NUM')), (('skill', '.'), ('skill', 'NOUN')), (('2163.2', '.'), ('2163.2', 'NUM')), (('half-hour', 'ADJ'), ('half-hour', 'NOUN')), (('further', 'ADJ'), ('further', 'ADV')), (('load', 'NOUN'), ('load', 'VERB')), (('dreamed', '.'), ('dreamed', 'VERB')), (('up', 'ADV'), ('up', 'PRT')), (('improbable', '.'), ('improbable', 'ADJ')), (('shop', '.'), ('shop', 'NOUN')), (('high-rise', '.'), ('high-rise', 'ADJ')), (('2-8', '.'), ('2-8', 'NUM')), (('ago', 'ADP'), ('ago', 'ADV')), (('A.C.', '.'), ('A.C.', 'NOUN')), (('Nielsen', '.'), ('Nielsen', 'NOUN')), (('Having', '.'), ('Having', 'VERB')), (('supportive', '.'), ('supportive', 'ADJ')), (('element', '.'), ('element', 'NOUN')), (('Breeden', '.'), ('Breeden', 'NOUN')), (('breakers', '.'), ('breakers', 'NOUN')), (('*T*-215', '.'), ('*T*-215', 'X')), (('87.5', '.'), ('87.5', 'NUM')), (('38.875', '.'), ('38.875', 'NUM')), (('noodles', '.'), ('noodles', 'NOUN')), (('pre-cooked', '.'), ('pre-cooked', 'ADJ')), (('pasta', '.'), ('pasta', 'NOUN')), (('Clive', '.'), ('Clive', 'NOUN')), (('about', 'ADP'), ('about', 'ADV')), (('Smaby', '.'), ('Smaby', 'NOUN')), (('Smaby', '.'), ('Smaby', 'NOUN')), (('properties', '.'), ('properties', 'NOUN')), (('INTER-TEL', '.'), ('INTER-TEL', 'NOUN')), (('cosmetic', 'NOUN'), ('cosmetic', 'ADJ')), (('Gelles', '.'), ('Gelles', 'NOUN')), (('Wertheim', '.'), ('Wertheim', 'NOUN')), (('Schroder', '.'), ('Schroder', 'NOUN')), (('entertaining', '.'), ('entertaining', 'ADJ')), (('means', 'NOUN'), ('means', 'VERB')), (('confrontational', '.'), ('confrontational', 'ADJ')), (('refunded', '.'), ('refunded', 'VERB')), (('shareholder-rights', '.'), ('shareholder-rights', 'ADJ')), (('unwanted', '.'), ('unwanted', 'ADJ')), (('suitors', '.'), ('suitors', 'NOUN')), (('bothered', '.'), ('bothered', 'VERB')), (('inverse', '.'), ('inverse', 'NOUN')), (('that', 'DET'), ('that', 'ADP')), (('66.5', '.'), ('66.5', 'NUM')), (('affecting', '.'), ('affecting', 'VERB')), (('Hazell', '.'), ('Hazell', 'NOUN')), (('auditor', '.'), ('auditor', 'NOUN')), (('vested', '.'), ('vested', 'VERB')), (('seconds', '.'), ('seconds', 'NOUN')), (('low-tech', '.'), ('low-tech', 'ADJ')), (('catch', 'NOUN'), ('catch', 'VERB')), (('fancy', '.'), ('fancy', 'NOUN')), (('strategic', '.'), ('strategic', 'ADJ')), (('servicing', 'NOUN'), ('servicing', 'VERB')), (('arise', '.'), ('arise', 'VERB')), (('buy', 'VERB'), ('buy', 'NOUN')), (('sell', 'VERB'), ('sell', 'NOUN')), (('that', 'ADP'), ('that', 'DET')), (('up', 'ADV'), ('up', 'PRT')), (('cumbersome', '.'), ('cumbersome', 'ADJ')), (('stock-price', '.'), ('stock-price', 'NOUN')), (('day-care', '.'), ('day-care', 'ADJ')), (('that', 'ADP'), ('that', 'DET')), (('spurned', '.'), ('spurned', 'VERB')), (('pressed', '.'), ('pressed', 'VERB')), (('implemented', '.'), ('implemented', 'VERB')), (('1', 'NUM'), ('1', 'X')), (('2', 'NUM'), ('2', 'X')), (('focus', 'VERB'), ('focus', 'NOUN')), (('3', 'NUM'), ('3', 'X')), (('playing', 'VERB'), ('playing', 'NOUN')), (('monopoly', '.'), ('monopoly', 'NOUN')), (('7.422', '.'), ('7.422', 'NUM')), (('crunch', '.'), ('crunch', 'NOUN')), (('crunch', '.'), ('crunch', 'NOUN')), (('crunch', '.'), ('crunch', 'NOUN')), (('bang', '.'), ('bang', 'NOUN')), (('bang', '.'), ('bang', 'NOUN')), (('bang', '.'), ('bang', 'NOUN')), (('above', 'ADP'), ('above', 'ADV')), (('obvious', '.'), ('obvious', 'ADJ')), (('exit', '.'), ('exit', 'NOUN')), (('prayer', '.'), ('prayer', 'NOUN')), (('minted', '.'), ('minted', 'VERB')), (('millionaires', '.'), ('millionaires', 'NOUN')), (('20s', '.'), ('20s', 'NUM')), (('30s', '.'), ('30s', 'NUM')), (('replacement-car', '.'), ('replacement-car', 'NOUN')), (('rentals', '.'), ('rentals', 'NOUN')), (('accidents', '.'), ('accidents', 'NOUN')), (('computer-system-design', '.'), ('computer-system-design', 'ADJ')), (('more-advanced', '.'), ('more-advanced', 'ADJ')), (('microprocessor', '.'), ('microprocessor', 'NOUN')), (('megabytes', '.'), ('megabytes', 'NOUN')), (('100-megabyte', '.'), ('100-megabyte', 'ADJ')), (('hard', 'ADV'), ('hard', 'ADJ')), (('5,699', '.'), ('5,699', 'NUM')), (('6,799', '.'), ('6,799', 'NUM')), (('that', 'ADP'), ('that', 'DET')), (('weather', 'NOUN'), ('weather', 'VERB')), (('storm', '.'), ('storm', 'NOUN')), (('Citizens', '.'), ('Citizens', 'NOUN')), (('Peninsula', '.'), ('Peninsula', 'NOUN')), (('floral', '.'), ('floral', 'ADJ')), (('70-a-share', '.'), ('70-a-share', 'ADJ')), (('buy-back', 'NOUN'), ('buy-back', 'ADJ')), (('pressed', '.'), ('pressed', 'VERB')), (('*T*-156', '.'), ('*T*-156', 'X')), (('tender', 'NOUN'), ('tender', 'ADJ')), (('concerned', '.'), ('concerned', 'VERB')), (('developments', '.'), ('developments', 'NOUN')), (('slow', 'VERB'), ('slow', 'ADJ')), (('saved', '.'), ('saved', 'VERB')), (('reclaim', '.'), ('reclaim', 'VERB')), (('mortgaged', '.'), ('mortgaged', 'VERB')), (('price-support', '.'), ('price-support', 'ADJ')), (('compilation', '.'), ('compilation', 'NOUN')), (('direct-investment', '.'), ('direct-investment', 'ADJ')), (('blames', '.'), ('blames', 'VERB')), (('actor', '.'), ('actor', 'NOUN')), (('inheritor', '.'), ('inheritor', 'NOUN')), (('Charlie', '.'), ('Charlie', 'NOUN')), (('estimates', 'VERB'), ('estimates', 'NOUN')), (('volunteer', '.'), ('volunteer', 'NOUN')), (('teetering', '.'), ('teetering', 'VERB')), (('insolvency', '.'), ('insolvency', 'NOUN')), (('future', 'ADJ'), ('future', 'NOUN')), (('purchasing', 'NOUN'), ('purchasing', 'VERB')), (('better', 'ADV'), ('better', 'ADJ')), (('export', 'VERB'), ('export', 'NOUN')), (('avid', '.'), ('avid', 'ADJ')), (('fan', '.'), ('fan', 'NOUN')), (('cable', '.'), ('cable', 'NOUN')), (('close', 'VERB'), ('close', 'ADJ')), (('guarantee', 'NOUN'), ('guarantee', 'VERB')), (('seven-million-ton', '.'), ('seven-million-ton', 'ADJ')), (('cut', 'VERB'), ('cut', 'NOUN')), (('that', 'ADP'), ('that', 'DET')), (('acid', 'ADJ'), ('acid', 'NOUN')), (('50.1', '.'), ('50.1', 'NUM')), (('DiLoreto', '.'), ('DiLoreto', 'NOUN')), (('container', '.'), ('container', 'NOUN')), (('Delmont', '.'), ('Delmont', 'NOUN')), (('operating', 'NOUN'), ('operating', 'VERB')), (('FreudToy', '.'), ('FreudToy', 'NOUN')), (('pillow', '.'), ('pillow', 'NOUN')), (('likeness', '.'), ('likeness', 'NOUN')), (('Sigmund', '.'), ('Sigmund', 'NOUN')), (('Freud', '.'), ('Freud', 'NOUN')), (('24.95', '.'), ('24.95', 'NUM')), (('tool', '.'), ('tool', 'NOUN')), (('do-it-yourself', '.'), ('do-it-yourself', 'ADJ')), (('right', 'NOUN'), ('right', 'ADJ')), (('1.82', '.'), ('1.82', 'NUM')), (('84.29', '.'), ('84.29', 'NUM')), (('impending', 'VERB'), ('impending', 'ADJ')), (('attack', 'VERB'), ('attack', 'NOUN')), (('enough', 'ADV'), ('enough', 'ADJ')), (('more', 'ADV'), ('more', 'ADJ')), (('longtime', '.'), ('longtime', 'NOUN')), (('scholar', '.'), ('scholar', 'NOUN')), (('target', 'VERB'), ('target', 'NOUN')), (('enormously', '.'), ('enormously', 'ADV')), (('frustrating', '.'), ('frustrating', 'VERB')), (('science', '.'), ('science', 'NOUN')), (('raring', '.'), ('raring', 'ADJ')), (('invent', '.'), ('invent', 'VERB')), (('Walkman', '.'), ('Walkman', 'NOUN')), (('IRAs', '.'), ('IRAs', 'NOUN')), (('segmenting', '.'), ('segmenting', 'VERB')), (('equip', '.'), ('equip', 'VERB')), (('lap-shoulder', '.'), ('lap-shoulder', 'ADJ')), (('rear', '.'), ('rear', 'ADJ')), (('soliciting', '.'), ('soliciting', 'VERB')), (('TXO', '.'), ('TXO', 'NOUN')), ((\"'s\", 'VERB'), (\"'s\", 'PRT')), (('trip', '.'), ('trip', 'NOUN')), (('mindful', '.'), ('mindful', 'ADJ')), (('total', 'ADJ'), ('total', 'NOUN')), (('malignant', '.'), ('malignant', 'ADJ')), (('mesothelioma', '.'), ('mesothelioma', 'NOUN')), (('asbestosis', '.'), ('asbestosis', 'NOUN')), (('16.9', '.'), ('16.9', 'NUM')), (('more', 'ADV'), ('more', 'ADJ')), (('17.4', '.'), ('17.4', 'NUM')), (('18.6', '.'), ('18.6', 'NUM')), (('Tokyu', '.'), ('Tokyu', 'NOUN')), (('Soviet', 'ADJ'), ('Soviet', 'NOUN')), (('verge', '.'), ('verge', 'NOUN')), (('favored', 'VERB'), ('favored', 'ADJ')), (('accidentally', '.'), ('accidentally', 'ADV')), (('enabled', '.'), ('enabled', 'VERB')), (('jam', '.'), ('jam', 'NOUN')), (('cocoa', '.'), ('cocoa', 'NOUN')), (('war-rationed', '.'), ('war-rationed', 'ADJ')), (('goodies', '.'), ('goodies', 'NOUN')), (('reins', '.'), ('reins', 'NOUN')), (('competed', '.'), ('competed', 'VERB')), (('charge', 'NOUN'), ('charge', 'VERB')), (('disclose', '.'), ('disclose', 'VERB')), (('cost', 'VERB'), ('cost', 'NOUN')), (('1.50', '.'), ('1.50', 'NUM')), (('I.', '.'), ('I.', 'NOUN')), (('improper', '.'), ('improper', 'ADJ')), (('use', 'VERB'), ('use', 'NOUN')), (('crack', 'NOUN'), ('crack', 'VERB')), (('that', 'ADP'), ('that', 'DET')), (('such', 'ADJ'), ('such', 'DET')), (('platinum', '.'), ('platinum', 'NOUN')), (('down', 'ADV'), ('down', 'ADP')), (('5.70', '.'), ('5.70', 'NUM')), (('494.50', '.'), ('494.50', 'NUM'))]\n"
     ]
    }
   ],
   "source": [
    "# let's check the incorrectly tagged words\n",
    "incorrect_tagged_words = [j for i, j in enumerate(zip(tagged_seq, test_run_base)) if j[0] != j[1]]\n",
    "\n",
    "print(\"Total Incorrect Tagged Words :\", len(incorrect_tagged_words))\n",
    "print(\"\\n\")\n",
    "print(\"Incorrect Tagged Words :\", incorrect_tagged_words)"
   ]
  },
  {
   "cell_type": "markdown",
   "id": "divided-driver",
   "metadata": {
    "papermill": {
     "duration": 0.064151,
     "end_time": "2021-06-22T16:44:34.819668",
     "exception": false,
     "start_time": "2021-06-22T16:44:34.755517",
     "status": "completed"
    },
    "tags": []
   },
   "source": [
    "### Solve the problem of unknown words"
   ]
  },
  {
   "cell_type": "markdown",
   "id": "recognized-magnet",
   "metadata": {
    "papermill": {
     "duration": 0.065839,
     "end_time": "2021-06-22T16:44:34.950263",
     "exception": false,
     "start_time": "2021-06-22T16:44:34.884424",
     "status": "completed"
    },
    "tags": []
   },
   "source": [
    "### Viterbi Modification-Technique I\n",
    "\n",
    "The default Vanilla viterbi algorithm achieved an accuracy of about 91.39%. The incorrect tagged cases can be attributed to the fact that when the algorithm hits an unknown word (i.e. not present in the training set hence emission probability is 0), it naively assigns the first tag in the list of tags that we have created.\n",
    "\n",
    "\n",
    "To minimize this 9% loss of accuracy, we modify the vanilla viterbi.We Use transition probability of tags when emission probability is zero (in case of unknown words)\n",
    "\n",
    "\n",
    "If a word is not present in the training vocabulary i.e. unknown word, then its emission probability will be 0 and hence The state probability will also be zero. Therefore in cases where the algorithm encounters a word which it has not see previously, we can leave out the emission probability and consider only the transition probability.\n",
    "\n",
    "The vanilla viterbi algorithm can be modified as shown below:\n",
    "\n",
    "If word is unknown then,\n",
    "consider only the transition prob (since, emission probability will be 0)\n",
    "Else\n",
    "consider both the emission and transition probabilities as state probability."
   ]
  },
  {
   "cell_type": "code",
   "execution_count": 28,
   "id": "comfortable-earthquake",
   "metadata": {
    "execution": {
     "iopub.execute_input": "2021-06-22T16:44:35.091291Z",
     "iopub.status.busy": "2021-06-22T16:44:35.090538Z",
     "iopub.status.idle": "2021-06-22T16:44:35.094226Z",
     "shell.execute_reply": "2021-06-22T16:44:35.093678Z",
     "shell.execute_reply.started": "2021-06-22T14:40:16.359269Z"
    },
    "papermill": {
     "duration": 0.077946,
     "end_time": "2021-06-22T16:44:35.094381",
     "exception": false,
     "start_time": "2021-06-22T16:44:35.016435",
     "status": "completed"
    },
    "tags": []
   },
   "outputs": [],
   "source": [
    "# Modified Viterbi Heuristic- Approach I\n",
    "def Viterbi_approach1(words, train_bag = train_tagged_words):\n",
    "    state = []\n",
    "    \n",
    "    # Take the list of unique tags present in the corpus\n",
    "    T = sorted(list(set([pair[1] for pair in train_bag])))\n",
    "    V = [i[0] for i in train_bag]\n",
    "    \n",
    "    for key, word in enumerate(words):\n",
    "        #initialise list of probability column for a given observation\n",
    "        p = [] \n",
    "        \n",
    "        for tag in T:\n",
    "            if key == 0: #first word has key=0\n",
    "                transition_p = tags_df.loc['.', tag]\n",
    "            else:\n",
    "                transition_p = tags_df.loc[state[-1], tag]\n",
    "                \n",
    "            # compute emission and state probabilities\n",
    "            emission_p = word_given_tag(words[key], tag)[0]/word_given_tag(words[key], tag)[1]\n",
    "            \n",
    "            # modification to the original vanilla viterbi algorithm. \n",
    "            # Vocab contains the list of unique words in training dataset\n",
    "            if word not in V: \n",
    "                state_probability = transition_p\n",
    "            else:\n",
    "                state_probability = emission_p * transition_p\n",
    "                \n",
    "            p.append(state_probability)\n",
    "            \n",
    "        pmax = max(p)\n",
    "        # getting state for which probability is maximum\n",
    "        state_max = T[p.index(pmax)] \n",
    "        state.append(state_max)\n",
    "    return list(zip(words, state))"
   ]
  },
  {
   "cell_type": "code",
   "execution_count": 29,
   "id": "occasional-penalty",
   "metadata": {
    "execution": {
     "iopub.execute_input": "2021-06-22T16:44:35.261444Z",
     "iopub.status.busy": "2021-06-22T16:44:35.250798Z",
     "iopub.status.idle": "2021-06-22T17:04:24.176038Z",
     "shell.execute_reply": "2021-06-22T17:04:24.175317Z",
     "shell.execute_reply.started": "2021-06-22T14:40:16.376464Z"
    },
    "papermill": {
     "duration": 1189.016079,
     "end_time": "2021-06-22T17:04:24.176193",
     "exception": false,
     "start_time": "2021-06-22T16:44:35.160114",
     "status": "completed"
    },
    "tags": []
   },
   "outputs": [],
   "source": [
    "# tagging the test sentences\n",
    "start = time.time()\n",
    "unknown_word_tagged_seq = Viterbi_approach1(test_tagged_words)\n",
    "end = time.time()\n",
    "difference = end-start"
   ]
  },
  {
   "cell_type": "code",
   "execution_count": 30,
   "id": "rubber-incentive",
   "metadata": {
    "execution": {
     "iopub.execute_input": "2021-06-22T17:04:24.310357Z",
     "iopub.status.busy": "2021-06-22T17:04:24.309714Z",
     "iopub.status.idle": "2021-06-22T17:04:24.312796Z",
     "shell.execute_reply": "2021-06-22T17:04:24.313539Z",
     "shell.execute_reply.started": "2021-06-22T15:05:18.955265Z"
    },
    "papermill": {
     "duration": 0.074068,
     "end_time": "2021-06-22T17:04:24.313771",
     "exception": false,
     "start_time": "2021-06-22T17:04:24.239703",
     "status": "completed"
    },
    "tags": []
   },
   "outputs": [
    {
     "name": "stdout",
     "output_type": "stream",
     "text": [
      "Time taken in seconds:  1188.9404582977295\n"
     ]
    }
   ],
   "source": [
    "print(\"Time taken in seconds: \", difference)"
   ]
  },
  {
   "cell_type": "code",
   "execution_count": 31,
   "id": "southern-clerk",
   "metadata": {
    "execution": {
     "iopub.execute_input": "2021-06-22T17:04:24.448560Z",
     "iopub.status.busy": "2021-06-22T17:04:24.447821Z",
     "iopub.status.idle": "2021-06-22T17:04:24.455518Z",
     "shell.execute_reply": "2021-06-22T17:04:24.454910Z",
     "shell.execute_reply.started": "2021-06-22T15:05:18.963700Z"
    },
    "papermill": {
     "duration": 0.075505,
     "end_time": "2021-06-22T17:04:24.455666",
     "exception": false,
     "start_time": "2021-06-22T17:04:24.380161",
     "status": "completed"
    },
    "tags": []
   },
   "outputs": [
    {
     "name": "stdout",
     "output_type": "stream",
     "text": [
      "The accuracy of the Vanilla Viterbi Algorithm after modification to handle unknown words is - 0.9388637703951248\n"
     ]
    }
   ],
   "source": [
    "#Let's check the accuracy of the Vanilla Viterbi Algorithm after modification\n",
    "unknown_word_check = [i for i, j in zip(unknown_word_tagged_seq, test_run_base) if i == j]\n",
    "\n",
    "optimized_viterbi_accuracy = len(unknown_word_check)/len(unknown_word_tagged_seq)\n",
    "\n",
    "print(\"The accuracy of the Vanilla Viterbi Algorithm after modification to handle unknown words is -\", optimized_viterbi_accuracy)"
   ]
  },
  {
   "cell_type": "code",
   "execution_count": 32,
   "id": "appropriate-party",
   "metadata": {
    "execution": {
     "iopub.execute_input": "2021-06-22T17:04:24.595237Z",
     "iopub.status.busy": "2021-06-22T17:04:24.594573Z",
     "iopub.status.idle": "2021-06-22T17:04:24.598733Z",
     "shell.execute_reply": "2021-06-22T17:04:24.599191Z",
     "shell.execute_reply.started": "2021-06-22T15:05:18.989892Z"
    },
    "papermill": {
     "duration": 0.078192,
     "end_time": "2021-06-22T17:04:24.599370",
     "exception": false,
     "start_time": "2021-06-22T17:04:24.521178",
     "status": "completed"
    },
    "tags": []
   },
   "outputs": [
    {
     "name": "stdout",
     "output_type": "stream",
     "text": [
      "Total Incorrect Tagged Words : 311\n",
      "\n",
      "\n",
      "Incorrect Tagged Words : [(('trade', 'VERB'), ('trade', 'NOUN')), (('Private', 'ADJ'), ('Private', 'NOUN')), (('pre-1917', 'X'), ('pre-1917', 'ADJ')), (('purchasing', 'NOUN'), ('purchasing', 'VERB')), (('reasonably', 'NOUN'), ('reasonably', 'ADV')), (('though', 'ADP'), ('though', 'ADV')), (('close', 'NOUN'), ('close', 'ADJ')), (('more', 'ADV'), ('more', 'ADJ')), (('Tokio', 'DET'), ('Tokio', 'NOUN')), (('preventative', 'DET'), ('preventative', 'ADJ')), (('20.5', 'NOUN'), ('20.5', 'NUM')), (('polarized', 'X'), ('polarized', 'VERB')), (('so', 'ADV'), ('so', 'ADP')), (('middle', 'NOUN'), ('middle', 'ADJ')), (('Though', 'NOUN'), ('Though', 'ADP')), (('154.2', 'X'), ('154.2', 'NUM')), (('chalk', 'DET'), ('chalk', 'NOUN')), (('first', 'ADJ'), ('first', 'ADV')), (('touched', 'NOUN'), ('touched', 'VERB')), (('cross-border', 'DET'), ('cross-border', 'ADJ')), (('emigres', 'DET'), ('emigres', 'NOUN')), (('*T*-133', 'NOUN'), ('*T*-133', 'X')), (('checking', 'NOUN'), ('checking', 'VERB')), (('safe', 'NOUN'), ('safe', 'ADJ')), (('plus', 'CONJ'), ('plus', 'ADV')), (('1953', 'DET'), ('1953', 'NUM')), (('1955', 'VERB'), ('1955', 'NUM')), (('homeless', 'ADJ'), ('homeless', 'NOUN')), (('pre-existing', 'X'), ('pre-existing', 'ADJ')), (('1,200', 'X'), ('1,200', 'NUM')), (('up', 'ADV'), ('up', 'PRT')), (('American-style', 'VERB'), ('American-style', 'ADJ')), (('most', 'ADJ'), ('most', 'ADV')), (('that', 'ADP'), ('that', 'DET')), (('*T*-253', 'DET'), ('*T*-253', 'X')), (('as', 'ADP'), ('as', 'ADV')), (('133.7', 'NOUN'), ('133.7', 'NUM')), (('94', 'NOUN'), ('94', 'NUM')), (('test', 'VERB'), ('test', 'NOUN')), (('out', 'PRT'), ('out', 'ADV')), (('*T*-222', 'VERB'), ('*T*-222', 'X')), (('sometimes-exhausting', 'NOUN'), ('sometimes-exhausting', 'ADJ')), (('sounding', 'NOUN'), ('sounding', 'VERB')), (('manmade-fiber', 'DET'), ('manmade-fiber', 'ADJ')), (('405', 'NOUN'), ('405', 'NUM')), (('*T*-102', 'VERB'), ('*T*-102', 'X')), ((\"'s\", 'PRT'), (\"'s\", 'VERB')), (('last', 'ADJ'), ('last', 'VERB')), (('develops', 'NOUN'), ('develops', 'VERB')), (('markets', 'NOUN'), ('markets', 'VERB')), (('low-cost', 'NOUN'), ('low-cost', 'ADJ')), (('waived', 'NOUN'), ('waived', 'VERB')), (('supplemental', 'DET'), ('supplemental', 'ADJ')), (('anti-drug', 'NOUN'), ('anti-drug', 'ADJ')), (('bearing', 'VERB'), ('bearing', 'NOUN')), (('work', 'VERB'), ('work', 'NOUN')), (('force', 'VERB'), ('force', 'NOUN')), (('that', 'DET'), ('that', 'ADP')), (('principal', 'NOUN'), ('principal', 'ADJ')), (('*T*-128', 'VERB'), ('*T*-128', 'X')), (('*T*-129', 'VERB'), ('*T*-129', 'X')), (('computer-generated', 'NOUN'), ('computer-generated', 'ADJ')), (('certified', 'DET'), ('certified', 'ADJ')), (('veto', 'NOUN'), ('veto', 'VERB')), (('containing', 'NOUN'), ('containing', 'VERB')), (('alternatively', 'NOUN'), ('alternatively', 'ADV')), (('sign', 'NOUN'), ('sign', 'VERB')), (('intrusions', 'VERB'), ('intrusions', 'NOUN')), (('executive', 'NOUN'), ('executive', 'ADJ')), (('void', 'VERB'), ('void', 'ADJ')), (('American', 'NOUN'), ('American', 'ADJ')), (('43.875', 'NOUN'), ('43.875', 'NUM')), (('mind', 'NOUN'), ('mind', 'VERB')), (('operating', 'NOUN'), ('operating', 'VERB')), (('shopped', 'NOUN'), ('shopped', 'VERB')), (('that', 'ADP'), ('that', 'DET')), (('average', 'ADJ'), ('average', 'NOUN')), (('133.8', 'DET'), ('133.8', 'NUM')), (('2.47', 'NOUN'), ('2.47', 'NUM')), (('7.4', 'VERB'), ('7.4', 'NUM')), (('2.30', 'NOUN'), ('2.30', 'NUM')), (('opening', 'NOUN'), ('opening', 'VERB')), (('13.625', 'NOUN'), ('13.625', 'NUM')), (('out', 'PRT'), ('out', 'ADP')), (('that', 'ADP'), ('that', 'DET')), (('Muzzling', 'NOUN'), ('Muzzling', 'ADJ')), (('executive', 'NOUN'), ('executive', 'ADJ')), ((\"'s\", 'PRT'), (\"'s\", 'VERB')), (('about', 'ADP'), ('about', 'PRT')), (('quips', 'NOUN'), ('quips', 'VERB')), (('Northampton', 'DET'), ('Northampton', 'NOUN')), (('air', 'VERB'), ('air', 'NOUN')), (('bags', 'X'), ('bags', 'NOUN')), (('front', 'NOUN'), ('front', 'ADJ')), (('side-crash', 'X'), ('side-crash', 'ADJ')), (('alleged', 'ADJ'), ('alleged', 'VERB')), (('Legend', 'VERB'), ('Legend', 'NOUN')), (('multinational', 'DET'), ('multinational', 'ADJ')), (('wheel-loader', 'NOUN'), ('wheel-loader', 'ADJ')), (('Heidelberg', 'DET'), ('Heidelberg', 'NOUN')), (('drink', 'NOUN'), ('drink', 'VERB')), (('desultory', 'NOUN'), ('desultory', 'ADJ')), (('declines', 'VERB'), ('declines', 'NOUN')), (('distinguished', 'NOUN'), ('distinguished', 'VERB')), (('herself', 'NOUN'), ('herself', 'PRON')), (('forcing', 'VERB'), ('forcing', 'ADJ')), (('up', 'ADV'), ('up', 'PRT')), (('college-bowl', 'X'), ('college-bowl', 'NOUN')), (('covers', 'VERB'), ('covers', 'NOUN')), (('Velcro', 'DET'), ('Velcro', 'NOUN')), (('that', 'ADP'), ('that', 'DET')), (('pins', 'VERB'), ('pins', 'NOUN')), (('estimates', 'VERB'), ('estimates', 'NOUN')), (('in', 'ADP'), ('in', 'PRT')), (('finance', 'NOUN'), ('finance', 'VERB')), (('non-core', 'X'), ('non-core', 'ADJ')), (('off', 'PRT'), ('off', 'ADP')), (('more', 'ADV'), ('more', 'ADJ')), (('appropriated', 'X'), ('appropriated', 'VERB')), (('twice', 'NOUN'), ('twice', 'ADV')), (('as', 'ADP'), ('as', 'ADV')), (('that', 'ADP'), ('that', 'DET')), (('noncompetitively', 'VERB'), ('noncompetitively', 'ADV')), (('Wilfred', 'VERB'), ('Wilfred', 'NOUN')), (('chief', 'NOUN'), ('chief', 'ADJ')), (('executive', 'NOUN'), ('executive', 'ADJ')), (('up', 'ADV'), ('up', 'PRT')), (('as', 'ADP'), ('as', 'ADV')), (('underlying', 'ADJ'), ('underlying', 'VERB')), (('more', 'ADV'), ('more', 'ADJ')), (('binders', 'VERB'), ('binders', 'NOUN')), (('93.9', 'NOUN'), ('93.9', 'NUM')), (('1.19', 'NOUN'), ('1.19', 'NUM')), (('92.9', 'NOUN'), ('92.9', 'NUM')), (('1.18', 'NOUN'), ('1.18', 'NUM')), (('earlier', 'ADV'), ('earlier', 'ADJ')), (('due', 'ADJ'), ('due', 'ADV')), (('overseas', 'ADV'), ('overseas', 'ADJ')), (('apparent', 'NOUN'), ('apparent', 'ADJ')), (('slowing', 'VERB'), ('slowing', 'NOUN')), (('single-family', 'NOUN'), ('single-family', 'ADJ')), (('estimate', 'NOUN'), ('estimate', 'VERB')), (('razor-thin', 'NOUN'), ('razor-thin', 'ADJ')), (('rarely', 'NOUN'), ('rarely', 'ADV')), (('acted', 'NOUN'), ('acted', 'VERB')), (('deplorable', 'NOUN'), ('deplorable', 'ADJ')), (('brushed', 'NOUN'), ('brushed', 'VERB')), (('talk', 'VERB'), ('talk', 'NOUN')), (('total', 'VERB'), ('total', 'ADJ')), (('topped', 'X'), ('topped', 'VERB')), (('16.5', 'NOUN'), ('16.5', 'NUM')), (('that', 'ADP'), ('that', 'DET')), (('technically', 'NOUN'), ('technically', 'ADV')), (('No', 'DET'), ('No', 'ADV')), (('triple', 'NOUN'), ('triple', 'ADV')), (('Washington-based', 'NOUN'), ('Washington-based', 'ADJ')), (('777', 'NOUN'), ('777', 'NUM')), (('Palestinian', 'ADJ'), ('Palestinian', 'NOUN')), (('first', 'ADJ'), ('first', 'ADV')), (('1.20', 'X'), ('1.20', 'NUM')), (('1.14', 'NOUN'), ('1.14', 'NUM')), (('2163.2', 'DET'), ('2163.2', 'NUM')), (('half-hour', 'ADJ'), ('half-hour', 'NOUN')), (('further', 'ADJ'), ('further', 'ADV')), (('load', 'NOUN'), ('load', 'VERB')), (('dreamed', 'NOUN'), ('dreamed', 'VERB')), (('improbable', 'VERB'), ('improbable', 'ADJ')), (('shop', 'VERB'), ('shop', 'NOUN')), (('high-rise', 'NOUN'), ('high-rise', 'ADJ')), (('2-8', 'NOUN'), ('2-8', 'NUM')), (('ago', 'ADP'), ('ago', 'ADV')), (('A.C.', 'VERB'), ('A.C.', 'NOUN')), (('Nielsen', 'X'), ('Nielsen', 'NOUN')), (('supportive', 'NOUN'), ('supportive', 'ADJ')), (('that', 'ADP'), ('that', 'DET')), (('*T*-215', 'DET'), ('*T*-215', 'X')), (('87.5', 'X'), ('87.5', 'NUM')), (('38.875', 'NOUN'), ('38.875', 'NUM')), (('noodles', 'X'), ('noodles', 'NOUN')), (('pre-cooked', 'NOUN'), ('pre-cooked', 'ADJ')), (('Clive', 'DET'), ('Clive', 'NOUN')), (('about', 'ADP'), ('about', 'ADV')), (('Smaby', 'DET'), ('Smaby', 'NOUN')), (('cosmetic', 'NOUN'), ('cosmetic', 'ADJ')), (('Wertheim', 'DET'), ('Wertheim', 'NOUN')), (('entertaining', 'NOUN'), ('entertaining', 'ADJ')), (('means', 'NOUN'), ('means', 'VERB')), (('confrontational', 'NOUN'), ('confrontational', 'ADJ')), (('refunded', 'X'), ('refunded', 'VERB')), (('shareholder-rights', 'NOUN'), ('shareholder-rights', 'ADJ')), (('unwanted', 'VERB'), ('unwanted', 'ADJ')), (('suitors', 'X'), ('suitors', 'NOUN')), (('that', 'DET'), ('that', 'ADP')), (('66.5', 'DET'), ('66.5', 'NUM')), (('affecting', 'NOUN'), ('affecting', 'VERB')), (('seconds', 'DET'), ('seconds', 'NOUN')), (('low-tech', 'NOUN'), ('low-tech', 'ADJ')), (('catch', 'NOUN'), ('catch', 'VERB')), (('fancy', 'VERB'), ('fancy', 'NOUN')), (('strategic', 'NOUN'), ('strategic', 'ADJ')), (('servicing', 'NOUN'), ('servicing', 'VERB')), (('arise', 'NOUN'), ('arise', 'VERB')), (('buy', 'VERB'), ('buy', 'NOUN')), (('sell', 'VERB'), ('sell', 'NOUN')), (('that', 'ADP'), ('that', 'DET')), (('up', 'ADV'), ('up', 'PRT')), (('cumbersome', 'VERB'), ('cumbersome', 'ADJ')), (('day-care', 'NOUN'), ('day-care', 'ADJ')), (('centers', 'VERB'), ('centers', 'NOUN')), (('that', 'ADP'), ('that', 'DET')), (('pressed', 'NOUN'), ('pressed', 'VERB')), (('implemented', 'X'), ('implemented', 'VERB')), (('1', 'NUM'), ('1', 'X')), (('2', 'NUM'), ('2', 'X')), (('focus', 'VERB'), ('focus', 'NOUN')), (('3', 'NUM'), ('3', 'X')), (('playing', 'VERB'), ('playing', 'NOUN')), (('monopoly', 'VERB'), ('monopoly', 'NOUN')), (('7.422', 'X'), ('7.422', 'NUM')), (('crunch', 'VERB'), ('crunch', 'NOUN')), (('above', 'ADP'), ('above', 'ADV')), (('obvious', 'VERB'), ('obvious', 'ADJ')), (('exit', 'X'), ('exit', 'NOUN')), (('prayer', 'DET'), ('prayer', 'NOUN')), (('minted', 'X'), ('minted', 'VERB')), (('millionaires', 'DET'), ('millionaires', 'NOUN')), (('20s', 'VERB'), ('20s', 'NUM')), (('30s', 'NOUN'), ('30s', 'NUM')), (('replacement-car', 'DET'), ('replacement-car', 'NOUN')), (('accidents', 'DET'), ('accidents', 'NOUN')), (('computer-system-design', 'DET'), ('computer-system-design', 'ADJ')), (('more-advanced', 'NOUN'), ('more-advanced', 'ADJ')), (('100-megabyte', 'NOUN'), ('100-megabyte', 'ADJ')), (('hard', 'ADV'), ('hard', 'ADJ')), (('5,699', 'NOUN'), ('5,699', 'NUM')), (('6,799', 'NOUN'), ('6,799', 'NUM')), (('that', 'ADP'), ('that', 'DET')), (('weather', 'NOUN'), ('weather', 'VERB')), (('Peninsula', 'DET'), ('Peninsula', 'NOUN')), (('floral', 'VERB'), ('floral', 'ADJ')), (('70-a-share', 'NOUN'), ('70-a-share', 'ADJ')), (('buy-back', 'NOUN'), ('buy-back', 'ADJ')), (('*T*-156', 'NOUN'), ('*T*-156', 'X')), (('tender', 'NOUN'), ('tender', 'ADJ')), (('slow', 'VERB'), ('slow', 'ADJ')), (('mortgaged', 'NOUN'), ('mortgaged', 'VERB')), (('price-support', 'DET'), ('price-support', 'ADJ')), (('direct-investment', 'NOUN'), ('direct-investment', 'ADJ')), (('Charlie', 'DET'), ('Charlie', 'NOUN')), (('estimates', 'VERB'), ('estimates', 'NOUN')), (('volunteer', 'VERB'), ('volunteer', 'NOUN')), (('work', 'VERB'), ('work', 'NOUN')), (('teetering', 'NOUN'), ('teetering', 'VERB')), (('insolvency', 'DET'), ('insolvency', 'NOUN')), (('future', 'ADJ'), ('future', 'NOUN')), (('purchasing', 'NOUN'), ('purchasing', 'VERB')), (('better', 'ADV'), ('better', 'ADJ')), (('export', 'VERB'), ('export', 'NOUN')), (('avid', 'NOUN'), ('avid', 'ADJ')), (('close', 'VERB'), ('close', 'ADJ')), (('guarantee', 'NOUN'), ('guarantee', 'VERB')), (('seven-million-ton', 'X'), ('seven-million-ton', 'ADJ')), (('cut', 'VERB'), ('cut', 'NOUN')), (('that', 'ADP'), ('that', 'DET')), (('acid', 'ADJ'), ('acid', 'NOUN')), (('50.1', 'DET'), ('50.1', 'NUM')), (('Delmont', 'X'), ('Delmont', 'NOUN')), (('operating', 'NOUN'), ('operating', 'VERB')), (('Sigmund', 'DET'), ('Sigmund', 'NOUN')), (('24.95', 'NOUN'), ('24.95', 'NUM')), (('tool', 'VERB'), ('tool', 'NOUN')), (('do-it-yourself', 'DET'), ('do-it-yourself', 'ADJ')), (('right', 'NOUN'), ('right', 'ADJ')), (('1.82', 'NOUN'), ('1.82', 'NUM')), (('84.29', 'NOUN'), ('84.29', 'NUM')), (('impending', 'VERB'), ('impending', 'ADJ')), (('attack', 'VERB'), ('attack', 'NOUN')), (('enough', 'ADV'), ('enough', 'ADJ')), (('more', 'ADV'), ('more', 'ADJ')), (('target', 'VERB'), ('target', 'NOUN')), (('enormously', 'X'), ('enormously', 'ADV')), (('raring', 'X'), ('raring', 'ADJ')), (('lap-shoulder', 'DET'), ('lap-shoulder', 'ADJ')), (('rear', 'DET'), ('rear', 'ADJ')), (('soliciting', 'X'), ('soliciting', 'VERB')), (('TXO', 'X'), ('TXO', 'NOUN')), (('mindful', 'VERB'), ('mindful', 'ADJ')), (('total', 'ADJ'), ('total', 'NOUN')), (('malignant', 'DET'), ('malignant', 'ADJ')), (('16.9', 'NOUN'), ('16.9', 'NUM')), (('more', 'ADV'), ('more', 'ADJ')), (('17.4', 'DET'), ('17.4', 'NUM')), (('18.6', 'NOUN'), ('18.6', 'NUM')), (('Soviet', 'ADJ'), ('Soviet', 'NOUN')), (('favored', 'VERB'), ('favored', 'ADJ')), (('accidentally', 'NOUN'), ('accidentally', 'ADV')), (('jam', 'X'), ('jam', 'NOUN')), (('war-rationed', 'NOUN'), ('war-rationed', 'ADJ')), (('competed', 'X'), ('competed', 'VERB')), (('charge', 'NOUN'), ('charge', 'VERB')), (('disclose', 'X'), ('disclose', 'VERB')), (('cost', 'VERB'), ('cost', 'NOUN')), (('1.50', 'NOUN'), ('1.50', 'NUM')), (('improper', 'NOUN'), ('improper', 'ADJ')), (('use', 'VERB'), ('use', 'NOUN')), (('crack', 'NOUN'), ('crack', 'VERB')), (('that', 'ADP'), ('that', 'DET')), (('such', 'ADJ'), ('such', 'DET')), (('down', 'ADV'), ('down', 'ADP')), (('5.70', 'NOUN'), ('5.70', 'NUM')), (('494.50', 'NOUN'), ('494.50', 'NUM'))]\n"
     ]
    }
   ],
   "source": [
    "incorrect_tagged_unknown_word = [j for i, j in enumerate(zip(unknown_word_tagged_seq, test_run_base)) if j[0]!=j[1]]\n",
    "print(\"Total Incorrect Tagged Words :\", len(incorrect_tagged_unknown_word))\n",
    "print(\"\\n\")\n",
    "print(\"Incorrect Tagged Words :\", incorrect_tagged_unknown_word)"
   ]
  },
  {
   "cell_type": "markdown",
   "id": "criminal-connecticut",
   "metadata": {
    "papermill": {
     "duration": 0.068088,
     "end_time": "2021-06-22T17:04:24.731937",
     "exception": false,
     "start_time": "2021-06-22T17:04:24.663849",
     "status": "completed"
    },
    "tags": []
   },
   "source": [
    "**Observations:** \n",
    "\n",
    " - Modified viterbi algorithm performs better than the original vanilla viterbi algorithm. The modified viterbi achieves an accuracy of approx. 93.88% compared to 91.39% of the vanilla viterbi algorithm.\n",
    "\n",
    "\n",
    "| Incorrect Tags-Original POS Tagger | Corrected Tags-Modified Approach I |\n",
    "| --- | --- |\n",
    "| ('protocols', '.') | ('protocols', 'NOUN') |\n",
    "| ('existed', '.') | ('existed', 'VERB') |\n",
    "| ('indulging', '.') | ('indulging', 'VERB') |\n",
    "| ('spurned', '.') | ('spurned', 'VERB') |\n",
    "| ('paycheck', '.') | ('paycheck', 'NOUN') |\n"
   ]
  },
  {
   "cell_type": "markdown",
   "id": "cosmetic-timothy",
   "metadata": {
    "papermill": {
     "duration": 0.065652,
     "end_time": "2021-06-22T17:04:24.866156",
     "exception": false,
     "start_time": "2021-06-22T17:04:24.800504",
     "status": "completed"
    },
    "tags": []
   },
   "source": [
    "#### Lexicon and Rule-Based Models for POS Tagging"
   ]
  },
  {
   "cell_type": "code",
   "execution_count": 33,
   "id": "static-gossip",
   "metadata": {
    "execution": {
     "iopub.execute_input": "2021-06-22T17:04:24.999008Z",
     "iopub.status.busy": "2021-06-22T17:04:24.998329Z",
     "iopub.status.idle": "2021-06-22T17:04:25.398899Z",
     "shell.execute_reply": "2021-06-22T17:04:25.399677Z",
     "shell.execute_reply.started": "2021-06-22T15:05:19.005406Z"
    },
    "papermill": {
     "duration": 0.469232,
     "end_time": "2021-06-22T17:04:25.399938",
     "exception": false,
     "start_time": "2021-06-22T17:04:24.930706",
     "status": "completed"
    },
    "tags": []
   },
   "outputs": [
    {
     "name": "stdout",
     "output_type": "stream",
     "text": [
      "The accuracy of the Unigram Tagger is - 0.911735797129939\n"
     ]
    }
   ],
   "source": [
    "# Lexicon (or unigram tagger)\n",
    "unigram_tagger = nltk.UnigramTagger(train_set)\n",
    "accuracy_unigram_tagger = unigram_tagger.evaluate(test_set)\n",
    "print(\"The accuracy of the Unigram Tagger is -\", accuracy_unigram_tagger)"
   ]
  },
  {
   "cell_type": "code",
   "execution_count": 34,
   "id": "interested-nitrogen",
   "metadata": {
    "execution": {
     "iopub.execute_input": "2021-06-22T17:04:25.598436Z",
     "iopub.status.busy": "2021-06-22T17:04:25.597424Z",
     "iopub.status.idle": "2021-06-22T17:04:25.603104Z",
     "shell.execute_reply": "2021-06-22T17:04:25.603659Z",
     "shell.execute_reply.started": "2021-06-22T15:05:19.433116Z"
    },
    "papermill": {
     "duration": 0.074823,
     "end_time": "2021-06-22T17:04:25.603838",
     "exception": false,
     "start_time": "2021-06-22T17:04:25.529015",
     "status": "completed"
    },
    "tags": []
   },
   "outputs": [],
   "source": [
    "# patterns for tagging using a rule based tagger\n",
    "patterns = [\n",
    "    (r'.*\\'s$', 'NOUN'),                     # possessive nouns\n",
    "    (r'.*s$', 'NOUN'),                       # plural nouns\n",
    "    (r'^[aA-zZ].*[0-9]+','NOUN'),            # Alpha Numeric\n",
    "    (r'.*ness$', 'NOUN'),                    # words ending with 'ness' such as 'sluggishness' \n",
    "    (r'.*', 'NOUN'), \n",
    "    (r'^([0-9]|[aA-zZ])+\\-[aA-zZ]*$','ADJ'),     \n",
    "    (r'[aA-zZ]+(ed|ing|es)$', 'VERB'),       # words ending with 'ed' or 'ing' or 'es'    \n",
    "    (r'.*ly$', 'ADV'),                       # words ending with 'ly'    \n",
    "    (r'^[0-9]+(.[0-9]+)?$', 'NUM'),          # cardinal numbers such as 61, 1956, 9.8, 8.45, 352.7        \n",
    "    (r'(The|the|A|a|An|an)$', 'DET')\n",
    "    ]"
   ]
  },
  {
   "cell_type": "code",
   "execution_count": 35,
   "id": "american-commons",
   "metadata": {
    "execution": {
     "iopub.execute_input": "2021-06-22T17:04:25.740433Z",
     "iopub.status.busy": "2021-06-22T17:04:25.739445Z",
     "iopub.status.idle": "2021-06-22T17:04:27.250222Z",
     "shell.execute_reply": "2021-06-22T17:04:27.250723Z",
     "shell.execute_reply.started": "2021-06-22T15:05:19.440191Z"
    },
    "papermill": {
     "duration": 1.582244,
     "end_time": "2021-06-22T17:04:27.250939",
     "exception": false,
     "start_time": "2021-06-22T17:04:25.668695",
     "status": "completed"
    },
    "tags": []
   },
   "outputs": [
    {
     "name": "stdout",
     "output_type": "stream",
     "text": [
      "The accuracy of the Unigram Tagger backed up by the RegexpTagger is - 0.9378808728130529\n"
     ]
    }
   ],
   "source": [
    "# Rule based tagger\n",
    "rule_based_tagger = nltk.RegexpTagger(patterns)\n",
    "\n",
    "# unigram tagger backed up by the rule-based tagger\n",
    "rule_based_unigram_tagger = nltk.UnigramTagger(train_set, backoff = rule_based_tagger)\n",
    "\n",
    "accuracy_rule_based_unigram_tagger = rule_based_unigram_tagger.evaluate(test_set)\n",
    "\n",
    "print(\"The accuracy of the Unigram Tagger backed up by the RegexpTagger is -\", accuracy_rule_based_unigram_tagger)"
   ]
  },
  {
   "cell_type": "code",
   "execution_count": 36,
   "id": "different-locator",
   "metadata": {
    "execution": {
     "iopub.execute_input": "2021-06-22T17:04:27.386131Z",
     "iopub.status.busy": "2021-06-22T17:04:27.385108Z",
     "iopub.status.idle": "2021-06-22T17:04:28.440733Z",
     "shell.execute_reply": "2021-06-22T17:04:28.439948Z",
     "shell.execute_reply.started": "2021-06-22T15:05:20.959309Z"
    },
    "papermill": {
     "duration": 1.123944,
     "end_time": "2021-06-22T17:04:28.440923",
     "exception": false,
     "start_time": "2021-06-22T17:04:27.316979",
     "status": "completed"
    },
    "tags": []
   },
   "outputs": [
    {
     "name": "stdout",
     "output_type": "stream",
     "text": [
      "The accuracy of the Bigram tagger backed up by the rule-based-unigram tagger - 0.9412227245920975\n"
     ]
    }
   ],
   "source": [
    "# Bigram tagger backed up by the rule-based-unigram tagger\n",
    "bigram_tagger = nltk.BigramTagger(train_set, backoff = rule_based_unigram_tagger)\n",
    "accuracy_bigram_tagger = bigram_tagger.evaluate(test_set)\n",
    "print(\"The accuracy of the Bigram tagger backed up by the rule-based-unigram tagger -\", accuracy_bigram_tagger)"
   ]
  },
  {
   "cell_type": "code",
   "execution_count": 37,
   "id": "brutal-width",
   "metadata": {
    "execution": {
     "iopub.execute_input": "2021-06-22T17:04:28.583924Z",
     "iopub.status.busy": "2021-06-22T17:04:28.583208Z",
     "iopub.status.idle": "2021-06-22T17:04:30.040870Z",
     "shell.execute_reply": "2021-06-22T17:04:30.040176Z",
     "shell.execute_reply.started": "2021-06-22T15:05:22.021345Z"
    },
    "papermill": {
     "duration": 1.533113,
     "end_time": "2021-06-22T17:04:30.041027",
     "exception": false,
     "start_time": "2021-06-22T17:04:28.507914",
     "status": "completed"
    },
    "tags": []
   },
   "outputs": [
    {
     "name": "stdout",
     "output_type": "stream",
     "text": [
      "The accuracy of the Trigram Tagger backed up by the bigram_tagger is - 0.9404364065264399\n"
     ]
    }
   ],
   "source": [
    "#trigram tagger\n",
    "trigram_tagger = nltk.TrigramTagger(train_set, backoff = bigram_tagger)\n",
    "accuracy_trigram_tagger = trigram_tagger.evaluate(test_set)\n",
    "print(\"The accuracy of the Trigram Tagger backed up by the bigram_tagger is -\", accuracy_trigram_tagger)"
   ]
  },
  {
   "cell_type": "markdown",
   "id": "handy-suite",
   "metadata": {
    "papermill": {
     "duration": 0.067649,
     "end_time": "2021-06-22T17:04:30.178905",
     "exception": false,
     "start_time": "2021-06-22T17:04:30.111256",
     "status": "completed"
    },
    "tags": []
   },
   "source": [
    "### Viterbi Modification-Technique II\n",
    "\n",
    "Trigram Tagger backed up by the bigram tagger gives an accuracy of about 94.04%. Let's now try to modify the viterbi algorithm to use this trigram tagger as a back-off.\n",
    "\n",
    "When the viterbi algorithm is not able to tag an unknown word, it uses the rule-based tagger."
   ]
  },
  {
   "cell_type": "code",
   "execution_count": 38,
   "id": "downtown-difference",
   "metadata": {
    "execution": {
     "iopub.execute_input": "2021-06-22T17:04:30.325231Z",
     "iopub.status.busy": "2021-06-22T17:04:30.324585Z",
     "iopub.status.idle": "2021-06-22T17:04:30.328114Z",
     "shell.execute_reply": "2021-06-22T17:04:30.327589Z",
     "shell.execute_reply.started": "2021-06-22T15:05:23.507459Z"
    },
    "papermill": {
     "duration": 0.078879,
     "end_time": "2021-06-22T17:04:30.328269",
     "exception": false,
     "start_time": "2021-06-22T17:04:30.249390",
     "status": "completed"
    },
    "tags": []
   },
   "outputs": [],
   "source": [
    "# A trigram tagger backed off by a rule based tagger.\n",
    "\n",
    "def trigram_tagger(word, train_set = train_set):\n",
    "    \n",
    "    # specify patterns for tagging. I have identified most of the patterns from the first 100 sentences in universal dataset\n",
    "    patterns = [\n",
    "    (r'^([0-9]|[aA-zZ])+\\-([0-9]|[aA-zZ])*$','ADJ'), # words such as '10-lap','30-day','York-based'\n",
    "    (r'.*able$', 'ADJ'),                     # words ending with 'able' such as 'questionable'\n",
    "    (r'.*ful$', 'ADJ'),                      # words ending with 'ful' such as 'useful'\n",
    "    (r'.*ous$', 'ADJ'),                      # words ending with 'ous' such as 'Previous'\n",
    "    \n",
    "    (r'.*\\'s$', 'NOUN'),                     # possessive nouns\n",
    "    (r'.*s$', 'NOUN'),                       # plural nouns\n",
    "    (r'^[aA-zZ].*[0-9]+','NOUN'),            # Alpha Numeric such as Door Number, Street Number etc\n",
    "    (r'.*ers$', 'NOUN'),                     # words ending with 'ers' such as 'filters','workers'\n",
    "    (r'.*ment$', 'NOUN'),                    # words ending with 'ment' such as 'reinvestment' a\n",
    "    (r'.*town$', 'NOUN'),                    # words ending with 'town' such as 'town','downtown'  \n",
    "    (r'.*ness$', 'NOUN'),                    # words ending with 'ness' such as 'sluggishness' \n",
    "    (r'^[A-Z]+([a-z]{1,2})?\\.?$','NOUN'),    # words such as 'Nov.','Mr.','Inc.'\n",
    "    \n",
    "    (r'[aA-zZ]+(ed|ing|es)$', 'VERB'),       # words ending with 'ed' or 'ing' or 'es'    \n",
    "    (r'.*ly$', 'ADV'),                       # words ending with 'ly'\n",
    "    (r'^[0-9]+(.[0-9]+)?$', 'NUM'),          # cardinal numbers such as 61, 1956, 9.8, 8.45, 352.7        \n",
    "    (r'^(0|([*|-|$].*))','X'),               # words such as '*', '0', *-1', '*T*-1', '*ICH*-1', '*?*'   \n",
    "    \n",
    "    (r'(The|the|A|a|An|an|That|that|This|this|Those|those|These|these)$', 'DET'), # determinants     \n",
    "    (r'.*', 'NOUN')  \n",
    "    ]\n",
    "    \n",
    "    rule_based_tagger = nltk.RegexpTagger(patterns)\n",
    "\n",
    "    # trigram backed up by the regex tagger\n",
    "    trigram_regex_tagger = nltk.TrigramTagger(train_set, backoff = rule_based_tagger)\n",
    "    return trigram_regex_tagger.tag_sents([[(word)]]) "
   ]
  },
  {
   "cell_type": "code",
   "execution_count": 39,
   "id": "located-trauma",
   "metadata": {
    "execution": {
     "iopub.execute_input": "2021-06-22T17:04:30.474703Z",
     "iopub.status.busy": "2021-06-22T17:04:30.473985Z",
     "iopub.status.idle": "2021-06-22T17:04:30.477607Z",
     "shell.execute_reply": "2021-06-22T17:04:30.476910Z",
     "shell.execute_reply.started": "2021-06-22T15:05:23.518693Z"
    },
    "papermill": {
     "duration": 0.082458,
     "end_time": "2021-06-22T17:04:30.477758",
     "exception": false,
     "start_time": "2021-06-22T17:04:30.395300",
     "status": "completed"
    },
    "tags": []
   },
   "outputs": [],
   "source": [
    "# Modified Viterbi Heuristic- Approach II - Backoff to rule based tagger in case an unknown word is encountered.\n",
    "def viterbi_backedup_by_trigram_tagger(words, train_bag = train_tagged_words):\n",
    "    state = []\n",
    "    T = sorted(list(set([pair[1] for pair in train_bag])))\n",
    "    V = [i[0] for i in train_bag]\n",
    "    \n",
    "    # use the trigram tagger backed up by the rule based tagger for unknown words.\n",
    "    for key, word in enumerate(words):\n",
    "        if word not in V:\n",
    "            unknown_word_tag = trigram_tagger(word)\n",
    "            for sent in unknown_word_tag:\n",
    "                for tup in sent:\n",
    "                    state.append(tup[1])\n",
    "        else:            \n",
    "            p = [] \n",
    "            for tag in T:\n",
    "                if key == 0:\n",
    "                    transition_p = tags_df.loc['.', tag]\n",
    "                else:\n",
    "                    transition_p = tags_df.loc[state[-1], tag]\n",
    "                \n",
    "                # compute emission and state probabilities\n",
    "                emission_p = word_given_tag(words[key], tag)[0]/word_given_tag(words[key], tag)[1]\n",
    "                state_probability = emission_p * transition_p    \n",
    "                p.append(state_probability)\n",
    "            \n",
    "            pmax = max(p)\n",
    "            # getting state for which probability is maximum\n",
    "            state_max = T[p.index(pmax)] \n",
    "            state.append(state_max)\n",
    "    return list(zip(words, state))"
   ]
  },
  {
   "cell_type": "markdown",
   "id": "english-hampton",
   "metadata": {
    "papermill": {
     "duration": 0.068075,
     "end_time": "2021-06-22T17:04:30.612162",
     "exception": false,
     "start_time": "2021-06-22T17:04:30.544087",
     "status": "completed"
    },
    "tags": []
   },
   "source": [
    "#### Evaluating tagging accuracy"
   ]
  },
  {
   "cell_type": "code",
   "execution_count": 40,
   "id": "representative-swedish",
   "metadata": {
    "execution": {
     "iopub.execute_input": "2021-06-22T17:04:30.752857Z",
     "iopub.status.busy": "2021-06-22T17:04:30.751792Z",
     "iopub.status.idle": "2021-06-22T17:43:03.550763Z",
     "shell.execute_reply": "2021-06-22T17:43:03.551360Z",
     "shell.execute_reply.started": "2021-06-22T15:37:18.486461Z"
    },
    "papermill": {
     "duration": 2312.87187,
     "end_time": "2021-06-22T17:43:03.551593",
     "exception": false,
     "start_time": "2021-06-22T17:04:30.679723",
     "status": "completed"
    },
    "tags": []
   },
   "outputs": [
    {
     "name": "stdout",
     "output_type": "stream",
     "text": [
      "The accuracy of the viterbi_backedup_by_trigram_tagger is - 0.9618635738156084\n"
     ]
    }
   ],
   "source": [
    "# tagging the test sentences\n",
    "viterbi_trigram_tagged_seq = viterbi_backedup_by_trigram_tagger(test_tagged_words)\n",
    "\n",
    "# accuracy\n",
    "viterbi_trigram_word_check = [i for i, j in zip(viterbi_trigram_tagged_seq, test_run_base) if i == j]\n",
    "\n",
    "viterbi_trigram_accuracy = len(viterbi_trigram_word_check)/len(viterbi_trigram_tagged_seq)\n",
    "\n",
    "print(\"The accuracy of the viterbi_backedup_by_trigram_tagger is -\", viterbi_trigram_accuracy)"
   ]
  },
  {
   "cell_type": "code",
   "execution_count": 41,
   "id": "tested-energy",
   "metadata": {
    "execution": {
     "iopub.execute_input": "2021-06-22T17:43:03.692854Z",
     "iopub.status.busy": "2021-06-22T17:43:03.692182Z",
     "iopub.status.idle": "2021-06-22T17:43:03.695423Z",
     "shell.execute_reply": "2021-06-22T17:43:03.694810Z",
     "shell.execute_reply.started": "2021-06-22T16:21:45.122354Z"
    },
    "papermill": {
     "duration": 0.076813,
     "end_time": "2021-06-22T17:43:03.695590",
     "exception": false,
     "start_time": "2021-06-22T17:43:03.618777",
     "status": "completed"
    },
    "tags": []
   },
   "outputs": [],
   "source": [
    "viterbi_trigram_incorrect_tagged_cases = [j for i, j in enumerate(zip(viterbi_trigram_tagged_seq, test_run_base)) if j[0]!=j[1]]"
   ]
  },
  {
   "cell_type": "code",
   "execution_count": 42,
   "id": "shared-person",
   "metadata": {
    "execution": {
     "iopub.execute_input": "2021-06-22T17:43:03.847895Z",
     "iopub.status.busy": "2021-06-22T17:43:03.846844Z",
     "iopub.status.idle": "2021-06-22T17:43:03.854291Z",
     "shell.execute_reply": "2021-06-22T17:43:03.855165Z",
     "shell.execute_reply.started": "2021-06-22T16:21:47.806591Z"
    },
    "papermill": {
     "duration": 0.083933,
     "end_time": "2021-06-22T17:43:03.855422",
     "exception": false,
     "start_time": "2021-06-22T17:43:03.771489",
     "status": "completed"
    },
    "tags": []
   },
   "outputs": [
    {
     "name": "stdout",
     "output_type": "stream",
     "text": [
      "Total Incorrect Tagged Words : 194\n",
      "\n",
      "\n",
      "Incorrect Tagged Words : [(('trade', 'VERB'), ('trade', 'NOUN')), (('Private', 'ADJ'), ('Private', 'NOUN')), (('purchasing', 'NOUN'), ('purchasing', 'VERB')), (('though', 'ADP'), ('though', 'ADV')), (('close', 'NOUN'), ('close', 'ADJ')), (('more', 'ADV'), ('more', 'ADJ')), (('preventative', 'NOUN'), ('preventative', 'ADJ')), (('so', 'ADV'), ('so', 'ADP')), (('exists', 'NOUN'), ('exists', 'VERB')), (('middle', 'NOUN'), ('middle', 'ADJ')), (('Though', 'NOUN'), ('Though', 'ADP')), (('first', 'ADJ'), ('first', 'ADV')), (('Catch-22', 'ADJ'), ('Catch-22', 'NOUN')), (('checking', 'NOUN'), ('checking', 'VERB')), (('safe', 'NOUN'), ('safe', 'ADJ')), (('plus', 'CONJ'), ('plus', 'ADV')), (('homeless', 'ADJ'), ('homeless', 'NOUN')), (('up', 'ADV'), ('up', 'PRT')), (('most', 'ADJ'), ('most', 'ADV')), (('that', 'ADP'), ('that', 'DET')), (('exploit', 'NOUN'), ('exploit', 'VERB')), (('brief', 'VERB'), ('brief', 'ADJ')), (('as', 'ADP'), ('as', 'ADV')), (('test', 'VERB'), ('test', 'NOUN')), (('out', 'PRT'), ('out', 'ADV')), ((\"'s\", 'PRT'), (\"'s\", 'VERB')), (('last', 'ADJ'), ('last', 'VERB')), (('develops', 'NOUN'), ('develops', 'VERB')), (('markets', 'NOUN'), ('markets', 'VERB')), (('supplemental', 'NOUN'), ('supplemental', 'ADJ')), (('bearing', 'VERB'), ('bearing', 'NOUN')), (('work', 'VERB'), ('work', 'NOUN')), (('force', 'VERB'), ('force', 'NOUN')), (('that', 'DET'), ('that', 'ADP')), (('principal', 'NOUN'), ('principal', 'ADJ')), (('red-flag', 'ADJ'), ('red-flag', 'VERB')), (('certified', 'VERB'), ('certified', 'ADJ')), (('veto', 'NOUN'), ('veto', 'VERB')), (('sign', 'NOUN'), ('sign', 'VERB')), (('executive', 'NOUN'), ('executive', 'ADJ')), (('void', 'NOUN'), ('void', 'ADJ')), (('American', 'NOUN'), ('American', 'ADJ')), (('mind', 'NOUN'), ('mind', 'VERB')), (('operating', 'NOUN'), ('operating', 'VERB')), (('that', 'ADP'), ('that', 'DET')), (('helps', 'NOUN'), ('helps', 'VERB')), (('average', 'ADJ'), ('average', 'NOUN')), (('opening', 'NOUN'), ('opening', 'VERB')), (('out', 'PRT'), ('out', 'ADP')), (('that', 'ADP'), ('that', 'DET')), (('wield', 'NOUN'), ('wield', 'VERB')), (('Muzzling', 'VERB'), ('Muzzling', 'ADJ')), (('executive', 'NOUN'), ('executive', 'ADJ')), (('Anything', 'VERB'), ('Anything', 'NOUN')), ((\"'s\", 'PRT'), (\"'s\", 'VERB')), (('about', 'ADP'), ('about', 'PRT')), (('quips', 'NOUN'), ('quips', 'VERB')), (('air', 'VERB'), ('air', 'NOUN')), (('front', 'NOUN'), ('front', 'ADJ')), (('alleged', 'ADJ'), ('alleged', 'VERB')), (('word-processing', 'ADJ'), ('word-processing', 'NOUN')), (('multinational', 'NOUN'), ('multinational', 'ADJ')), (('Iran-Contra', 'ADJ'), ('Iran-Contra', 'NOUN')), (('drink', 'NOUN'), ('drink', 'VERB')), (('desultory', 'NOUN'), ('desultory', 'ADJ')), (('declines', 'VERB'), ('declines', 'NOUN')), (('herself', 'NOUN'), ('herself', 'PRON')), (('forcing', 'VERB'), ('forcing', 'ADJ')), (('pair', 'NOUN'), ('pair', 'VERB')), (('college-bowl', 'ADJ'), ('college-bowl', 'NOUN')), (('covers', 'VERB'), ('covers', 'NOUN')), (('that', 'ADP'), ('that', 'DET')), (('pins', 'VERB'), ('pins', 'NOUN')), (('estimates', 'VERB'), ('estimates', 'NOUN')), (('in', 'ADP'), ('in', 'PRT')), (('finance', 'NOUN'), ('finance', 'VERB')), (('off', 'PRT'), ('off', 'ADP')), (('more', 'ADV'), ('more', 'ADJ')), (('twice', 'NOUN'), ('twice', 'ADV')), (('as', 'ADP'), ('as', 'ADV')), (('Johnson-era', 'ADJ'), ('Johnson-era', 'NOUN')), (('that', 'ADP'), ('that', 'DET')), (('mandates', 'NOUN'), ('mandates', 'VERB')), (('Wilfred', 'VERB'), ('Wilfred', 'NOUN')), (('chief', 'NOUN'), ('chief', 'ADJ')), (('executive', 'NOUN'), ('executive', 'ADJ')), (('up', 'ADV'), ('up', 'PRT')), (('as', 'ADP'), ('as', 'ADV')), (('underlying', 'ADJ'), ('underlying', 'VERB')), (('more', 'ADV'), ('more', 'ADJ')), (('earlier', 'ADV'), ('earlier', 'ADJ')), (('due', 'ADJ'), ('due', 'ADV')), (('overseas', 'ADV'), ('overseas', 'ADJ')), (('apparent', 'NOUN'), ('apparent', 'ADJ')), (('slowing', 'VERB'), ('slowing', 'NOUN')), (('single-family', 'NOUN'), ('single-family', 'ADJ')), (('estimate', 'NOUN'), ('estimate', 'VERB')), (('fledgling', 'VERB'), ('fledgling', 'NOUN')), (('depend', 'NOUN'), ('depend', 'VERB')), (('talk', 'VERB'), ('talk', 'NOUN')), (('total', 'VERB'), ('total', 'ADJ')), (('that', 'ADP'), ('that', 'DET')), (('No', 'DET'), ('No', 'ADV')), (('triple', 'NOUN'), ('triple', 'ADV')), (('sue', 'NOUN'), ('sue', 'VERB')), (('Palestinian', 'ADJ'), ('Palestinian', 'NOUN')), (('first', 'ADJ'), ('first', 'ADV')), (('half-hour', 'ADJ'), ('half-hour', 'NOUN')), (('further', 'ADJ'), ('further', 'ADV')), (('load', 'NOUN'), ('load', 'VERB')), (('up', 'ADV'), ('up', 'PRT')), (('2-8', 'ADJ'), ('2-8', 'NUM')), (('ago', 'ADP'), ('ago', 'ADV')), (('supportive', 'NOUN'), ('supportive', 'ADJ')), (('that', 'ADP'), ('that', 'DET')), (('about', 'ADP'), ('about', 'ADV')), (('INTER-TEL', 'ADJ'), ('INTER-TEL', 'NOUN')), (('cosmetic', 'NOUN'), ('cosmetic', 'ADJ')), (('entertaining', 'VERB'), ('entertaining', 'ADJ')), (('means', 'NOUN'), ('means', 'VERB')), (('confrontational', 'NOUN'), ('confrontational', 'ADJ')), (('unwanted', 'VERB'), ('unwanted', 'ADJ')), (('that', 'DET'), ('that', 'ADP')), (('catch', 'NOUN'), ('catch', 'VERB')), (('strategic', 'NOUN'), ('strategic', 'ADJ')), (('servicing', 'NOUN'), ('servicing', 'VERB')), (('arise', 'NOUN'), ('arise', 'VERB')), (('buy', 'VERB'), ('buy', 'NOUN')), (('sell', 'VERB'), ('sell', 'NOUN')), (('that', 'ADP'), ('that', 'DET')), (('up', 'ADV'), ('up', 'PRT')), (('cumbersome', 'NOUN'), ('cumbersome', 'ADJ')), (('stock-price', 'ADJ'), ('stock-price', 'NOUN')), (('that', 'ADP'), ('that', 'DET')), (('1', 'NUM'), ('1', 'X')), (('2', 'NUM'), ('2', 'X')), (('focus', 'VERB'), ('focus', 'NOUN')), (('3', 'NUM'), ('3', 'X')), (('playing', 'VERB'), ('playing', 'NOUN')), (('monopoly', 'ADV'), ('monopoly', 'NOUN')), (('above', 'ADP'), ('above', 'ADV')), (('20s', 'NOUN'), ('20s', 'NUM')), (('30s', 'NOUN'), ('30s', 'NUM')), (('replacement-car', 'ADJ'), ('replacement-car', 'NOUN')), (('computer-system-design', 'NOUN'), ('computer-system-design', 'ADJ')), (('that', 'ADP'), ('that', 'DET')), (('weather', 'NOUN'), ('weather', 'VERB')), (('floral', 'NOUN'), ('floral', 'ADJ')), (('70-a-share', 'NOUN'), ('70-a-share', 'ADJ')), (('buy-back', 'NOUN'), ('buy-back', 'ADJ')), (('tender', 'NOUN'), ('tender', 'ADJ')), (('slow', 'VERB'), ('slow', 'ADJ')), (('reclaim', 'NOUN'), ('reclaim', 'VERB')), (('blames', 'NOUN'), ('blames', 'VERB')), (('estimates', 'VERB'), ('estimates', 'NOUN')), (('future', 'ADJ'), ('future', 'NOUN')), (('purchasing', 'NOUN'), ('purchasing', 'VERB')), (('better', 'ADV'), ('better', 'ADJ')), (('export', 'VERB'), ('export', 'NOUN')), (('avid', 'NOUN'), ('avid', 'ADJ')), (('cable', 'ADJ'), ('cable', 'NOUN')), (('close', 'VERB'), ('close', 'ADJ')), (('guarantee', 'NOUN'), ('guarantee', 'VERB')), (('seven-million-ton', 'NOUN'), ('seven-million-ton', 'ADJ')), (('cut', 'VERB'), ('cut', 'NOUN')), (('that', 'ADP'), ('that', 'DET')), (('acid', 'ADJ'), ('acid', 'NOUN')), (('operating', 'NOUN'), ('operating', 'VERB')), (('do-it-yourself', 'NOUN'), ('do-it-yourself', 'ADJ')), (('right', 'NOUN'), ('right', 'ADJ')), (('impending', 'VERB'), ('impending', 'ADJ')), (('attack', 'VERB'), ('attack', 'NOUN')), (('enough', 'ADV'), ('enough', 'ADJ')), (('more', 'ADV'), ('more', 'ADJ')), (('target', 'VERB'), ('target', 'NOUN')), (('raring', 'VERB'), ('raring', 'ADJ')), (('invent', 'NOUN'), ('invent', 'VERB')), (('equip', 'NOUN'), ('equip', 'VERB')), (('light', 'NOUN'), ('light', 'ADJ')), (('rear', 'NOUN'), ('rear', 'ADJ')), (('total', 'ADJ'), ('total', 'NOUN')), (('malignant', 'NOUN'), ('malignant', 'ADJ')), (('more', 'ADV'), ('more', 'ADJ')), (('Soviet', 'ADJ'), ('Soviet', 'NOUN')), (('favored', 'VERB'), ('favored', 'ADJ')), (('charge', 'NOUN'), ('charge', 'VERB')), (('disclose', 'NOUN'), ('disclose', 'VERB')), (('cost', 'VERB'), ('cost', 'NOUN')), (('improper', 'NOUN'), ('improper', 'ADJ')), (('use', 'VERB'), ('use', 'NOUN')), (('crack', 'NOUN'), ('crack', 'VERB')), (('that', 'ADP'), ('that', 'DET')), (('such', 'ADJ'), ('such', 'DET')), (('down', 'ADV'), ('down', 'ADP'))]\n"
     ]
    }
   ],
   "source": [
    "print(\"Total Incorrect Tagged Words :\", len(viterbi_trigram_incorrect_tagged_cases))\n",
    "print(\"\\n\")\n",
    "print(\"Incorrect Tagged Words :\", viterbi_trigram_incorrect_tagged_cases)"
   ]
  },
  {
   "cell_type": "markdown",
   "id": "nominated-afghanistan",
   "metadata": {
    "papermill": {
     "duration": 0.07677,
     "end_time": "2021-06-22T17:43:04.006763",
     "exception": false,
     "start_time": "2021-06-22T17:43:03.929993",
     "status": "completed"
    },
    "tags": []
   },
   "source": [
    "**Observations:** \n",
    "\n",
    " - Below words have been correctly tagged by Approach II compared to Vanilla viterbi and Modified Approach-I.\n",
    "\n",
    "\n",
    "| Incorrect Tags-Original POS Tagger | Corrected Tags-Modified Approach I | Corrected Tags-Modified Approach II |\n",
    "| --- | --- | --- |\n",
    "| ('reasonably', '.') | ('reasonably', 'NOUN') | ('reasonably', 'ADV') |\n",
    "| ('154.2', '.') | ('154.2', 'X') | ('154.2', 'NUM') |\n",
    "| ('Tokio', '.') | ('Tokio', 'DET') | ('Tokio', 'NOUN') |\n",
    "| ('polarized', '.') | ('polarized', 'X') | ('polarized', 'VERB') |"
   ]
  },
  {
   "cell_type": "markdown",
   "id": "characteristic-acoustic",
   "metadata": {
    "papermill": {
     "duration": 0.067963,
     "end_time": "2021-06-22T17:43:04.161703",
     "exception": false,
     "start_time": "2021-06-22T17:43:04.093740",
     "status": "completed"
    },
    "tags": []
   },
   "source": [
    "### Compare the tagging accuracies of the modifications with the vanilla Viterbi algorithm"
   ]
  },
  {
   "cell_type": "code",
   "execution_count": 43,
   "id": "informational-minute",
   "metadata": {
    "execution": {
     "iopub.execute_input": "2021-06-22T17:43:04.301419Z",
     "iopub.status.busy": "2021-06-22T17:43:04.300510Z",
     "iopub.status.idle": "2021-06-22T17:43:04.315984Z",
     "shell.execute_reply": "2021-06-22T17:43:04.315185Z",
     "shell.execute_reply.started": "2021-06-22T16:21:58.046394Z"
    },
    "papermill": {
     "duration": 0.086393,
     "end_time": "2021-06-22T17:43:04.316195",
     "exception": false,
     "start_time": "2021-06-22T17:43:04.229802",
     "status": "completed"
    },
    "tags": []
   },
   "outputs": [
    {
     "data": {
      "text/html": [
       "<div>\n",
       "<style scoped>\n",
       "    .dataframe tbody tr th:only-of-type {\n",
       "        vertical-align: middle;\n",
       "    }\n",
       "\n",
       "    .dataframe tbody tr th {\n",
       "        vertical-align: top;\n",
       "    }\n",
       "\n",
       "    .dataframe thead th {\n",
       "        text-align: right;\n",
       "    }\n",
       "</style>\n",
       "<table border=\"1\" class=\"dataframe\">\n",
       "  <thead>\n",
       "    <tr style=\"text-align: right;\">\n",
       "      <th></th>\n",
       "      <th>Tagging_Algorithm</th>\n",
       "      <th>Tagging_Accuracy</th>\n",
       "    </tr>\n",
       "  </thead>\n",
       "  <tbody>\n",
       "    <tr>\n",
       "      <th>0</th>\n",
       "      <td>Vanilla Viterbi</td>\n",
       "      <td>91.389817</td>\n",
       "    </tr>\n",
       "    <tr>\n",
       "      <th>1</th>\n",
       "      <td>Optimized Vanilla Viterbi</td>\n",
       "      <td>93.886377</td>\n",
       "    </tr>\n",
       "    <tr>\n",
       "      <th>2</th>\n",
       "      <td>Unigram Tagger</td>\n",
       "      <td>91.173580</td>\n",
       "    </tr>\n",
       "    <tr>\n",
       "      <th>3</th>\n",
       "      <td>Unigram + RegexpTagger</td>\n",
       "      <td>93.788087</td>\n",
       "    </tr>\n",
       "    <tr>\n",
       "      <th>4</th>\n",
       "      <td>Bigram Tagger + Unigram_tagger</td>\n",
       "      <td>94.122272</td>\n",
       "    </tr>\n",
       "    <tr>\n",
       "      <th>5</th>\n",
       "      <td>Trigram Tagger + Bigram_tagger</td>\n",
       "      <td>94.043641</td>\n",
       "    </tr>\n",
       "    <tr>\n",
       "      <th>6</th>\n",
       "      <td>Viterbi + Trigram_tagger</td>\n",
       "      <td>96.186357</td>\n",
       "    </tr>\n",
       "  </tbody>\n",
       "</table>\n",
       "</div>"
      ],
      "text/plain": [
       "                Tagging_Algorithm  Tagging_Accuracy\n",
       "0                 Vanilla Viterbi         91.389817\n",
       "1       Optimized Vanilla Viterbi         93.886377\n",
       "2                  Unigram Tagger         91.173580\n",
       "3          Unigram + RegexpTagger         93.788087\n",
       "4  Bigram Tagger + Unigram_tagger         94.122272\n",
       "5  Trigram Tagger + Bigram_tagger         94.043641\n",
       "6        Viterbi + Trigram_tagger         96.186357"
      ]
     },
     "execution_count": 43,
     "metadata": {},
     "output_type": "execute_result"
    }
   ],
   "source": [
    "acccuracy_data = [['Vanilla Viterbi', vanilla_viterbi_accuracy*100], \n",
    "                  ['Optimized Vanilla Viterbi', optimized_viterbi_accuracy*100], \n",
    "                  ['Unigram Tagger', accuracy_unigram_tagger*100],\n",
    "                  ['Unigram + RegexpTagger', accuracy_rule_based_unigram_tagger*100],\n",
    "                  ['Bigram Tagger + Unigram_tagger', accuracy_bigram_tagger*100],\n",
    "                  ['Trigram Tagger + Bigram_tagger', accuracy_trigram_tagger*100],\n",
    "                  ['Viterbi + Trigram_tagger', viterbi_trigram_accuracy*100]]\n",
    "\n",
    "acccuracy_data_df = pd.DataFrame(acccuracy_data, columns = ['Tagging_Algorithm', 'Tagging_Accuracy'])\n",
    "\n",
    "acccuracy_data_df"
   ]
  },
  {
   "cell_type": "markdown",
   "id": "lesser-maple",
   "metadata": {
    "papermill": {
     "duration": 0.06802,
     "end_time": "2021-06-22T17:43:04.459160",
     "exception": false,
     "start_time": "2021-06-22T17:43:04.391140",
     "status": "completed"
    },
    "tags": []
   },
   "source": [
    "### List down cases which were incorrectly tagged by original POS tagger and got corrected by our modifications"
   ]
  },
  {
   "cell_type": "markdown",
   "id": "bibliographic-albany",
   "metadata": {
    "papermill": {
     "duration": 0.066153,
     "end_time": "2021-06-22T17:43:04.594313",
     "exception": false,
     "start_time": "2021-06-22T17:43:04.528160",
     "status": "completed"
    },
    "tags": []
   },
   "source": [
    "#### Case#1"
   ]
  },
  {
   "cell_type": "code",
   "execution_count": 44,
   "id": "known-debate",
   "metadata": {
    "execution": {
     "iopub.execute_input": "2021-06-22T17:43:04.732687Z",
     "iopub.status.busy": "2021-06-22T17:43:04.732027Z",
     "iopub.status.idle": "2021-06-22T17:43:07.972552Z",
     "shell.execute_reply": "2021-06-22T17:43:07.971961Z",
     "shell.execute_reply.started": "2021-06-22T16:22:05.172197Z"
    },
    "papermill": {
     "duration": 3.311924,
     "end_time": "2021-06-22T17:43:07.972707",
     "exception": false,
     "start_time": "2021-06-22T17:43:04.660783",
     "status": "completed"
    },
    "tags": []
   },
   "outputs": [
    {
     "name": "stdout",
     "output_type": "stream",
     "text": [
      "[('I', 'PRON'), ('Instagrammed', '.'), ('a', 'DET'), ('Facebook', '.'), ('post', 'NOUN'), ('taken', 'VERB'), ('from', 'ADP'), ('Android', '.'), ('smartphone', '.'), ('and', 'CONJ'), ('uploaded', '.'), ('results', 'NOUN'), ('to', 'PRT'), ('Youtube', '.'), ('.', '.')]\n"
     ]
    }
   ],
   "source": [
    "sentence_test1 = 'I Instagrammed a Facebook post taken from Android smartphone and uploaded results to Youtube.'\n",
    "words = word_tokenize(sentence_test1)\n",
    "tagged_seq = Viterbi(words)\n",
    "print(tagged_seq)"
   ]
  },
  {
   "cell_type": "code",
   "execution_count": 45,
   "id": "coupled-permit",
   "metadata": {
    "execution": {
     "iopub.execute_input": "2021-06-22T17:43:08.152019Z",
     "iopub.status.busy": "2021-06-22T17:43:08.146731Z",
     "iopub.status.idle": "2021-06-22T17:43:11.570524Z",
     "shell.execute_reply": "2021-06-22T17:43:11.571052Z",
     "shell.execute_reply.started": "2021-06-22T16:22:09.604857Z"
    },
    "papermill": {
     "duration": 3.531634,
     "end_time": "2021-06-22T17:43:11.571242",
     "exception": false,
     "start_time": "2021-06-22T17:43:08.039608",
     "status": "completed"
    },
    "tags": []
   },
   "outputs": [
    {
     "name": "stdout",
     "output_type": "stream",
     "text": [
      "[('I', 'PRON'), ('Instagrammed', 'VERB'), ('a', 'DET'), ('Facebook', 'NOUN'), ('post', 'NOUN'), ('taken', 'VERB'), ('from', 'ADP'), ('Android', 'DET'), ('smartphone', 'NOUN'), ('and', 'CONJ'), ('uploaded', 'NOUN'), ('results', 'NOUN'), ('to', 'PRT'), ('Youtube', 'VERB'), ('.', '.')]\n"
     ]
    }
   ],
   "source": [
    "tagged_seq_modified1 = Viterbi_approach1(words)\n",
    "print(tagged_seq_modified1)"
   ]
  },
  {
   "cell_type": "code",
   "execution_count": 46,
   "id": "incorporated-ceremony",
   "metadata": {
    "execution": {
     "iopub.execute_input": "2021-06-22T17:43:11.755390Z",
     "iopub.status.busy": "2021-06-22T17:43:11.744948Z",
     "iopub.status.idle": "2021-06-22T17:43:37.039913Z",
     "shell.execute_reply": "2021-06-22T17:43:37.039337Z",
     "shell.execute_reply.started": "2021-06-22T16:22:14.327585Z"
    },
    "papermill": {
     "duration": 25.401792,
     "end_time": "2021-06-22T17:43:37.040073",
     "exception": false,
     "start_time": "2021-06-22T17:43:11.638281",
     "status": "completed"
    },
    "tags": []
   },
   "outputs": [
    {
     "name": "stdout",
     "output_type": "stream",
     "text": [
      "[('I', 'PRON'), ('Instagrammed', 'VERB'), ('a', 'DET'), ('Facebook', 'NOUN'), ('post', 'NOUN'), ('taken', 'VERB'), ('from', 'ADP'), ('Android', 'NOUN'), ('smartphone', 'NOUN'), ('and', 'CONJ'), ('uploaded', 'VERB'), ('results', 'NOUN'), ('to', 'PRT'), ('Youtube', 'NOUN'), ('.', '.')]\n"
     ]
    }
   ],
   "source": [
    "tagged_seq_modified2 = viterbi_backedup_by_trigram_tagger(words)\n",
    "print(tagged_seq_modified2)"
   ]
  },
  {
   "cell_type": "markdown",
   "id": "handy-correction",
   "metadata": {
    "papermill": {
     "duration": 0.069558,
     "end_time": "2021-06-22T17:43:37.178144",
     "exception": false,
     "start_time": "2021-06-22T17:43:37.108586",
     "status": "completed"
    },
    "tags": []
   },
   "source": [
    "**Observations:** \n",
    "\n",
    " - Below words have been correctly tagged by Approach II compared to Modified Approach-I.\n",
    "\n",
    "\n",
    "| Incorrect Tags-Original POS Tagger | Corrected Tags-Modified Approach I | Corrected Tags-Modified Approach II |\n",
    "| --- | --- | --- |\n",
    "| ('Instagrammed', '.') | ('Instagrammed', 'VERB') | ('Instagrammed', 'VERB') |\n",
    "| ('Facebook', '.') | ('Facebook', 'NOUN') | ('Facebook', 'NOUN') |\n",
    "| ('Android', '.') | ('Android', 'DET') | ('Android', 'NOUN') |\n",
    "| ('smartphone', '.') | ('smartphone', 'NOUN') | ('smartphone', 'NOUN') |\n",
    "| ('uploaded', '.') | ('uploaded', 'NOUN') | ('uploaded', 'VERB') |\n",
    "| ('Youtube', '.') | ('Youtube', 'VERB') | ('Youtube', 'NOUN') |\n"
   ]
  },
  {
   "cell_type": "markdown",
   "id": "level-forum",
   "metadata": {
    "papermill": {
     "duration": 0.068899,
     "end_time": "2021-06-22T17:43:37.316745",
     "exception": false,
     "start_time": "2021-06-22T17:43:37.247846",
     "status": "completed"
    },
    "tags": []
   },
   "source": [
    "#### Case#2"
   ]
  },
  {
   "cell_type": "code",
   "execution_count": 47,
   "id": "powerful-pierre",
   "metadata": {
    "execution": {
     "iopub.execute_input": "2021-06-22T17:43:37.470159Z",
     "iopub.status.busy": "2021-06-22T17:43:37.469141Z",
     "iopub.status.idle": "2021-06-22T17:43:41.270723Z",
     "shell.execute_reply": "2021-06-22T17:43:41.271245Z",
     "shell.execute_reply.started": "2021-06-22T16:22:40.856760Z"
    },
    "papermill": {
     "duration": 3.880789,
     "end_time": "2021-06-22T17:43:41.271430",
     "exception": false,
     "start_time": "2021-06-22T17:43:37.390641",
     "status": "completed"
    },
    "tags": []
   },
   "outputs": [
    {
     "name": "stdout",
     "output_type": "stream",
     "text": [
      "[('Google', '.'), ('and', 'CONJ'), ('Twitter', '.'), ('made', 'VERB'), ('a', 'DET'), ('deal', 'NOUN'), ('in', 'ADP'), ('2015', '.'), ('that', 'DET'), ('gave', 'VERB'), ('Google', '.'), ('access', 'NOUN'), ('to', 'PRT'), ('Twitter', '.'), (\"'s\", 'VERB'), ('firehose', '.'), ('.', '.')]\n"
     ]
    }
   ],
   "source": [
    "sentence_test2 = \"Google and Twitter made a deal in 2015 that gave Google access to Twitter's firehose.\"\n",
    "words = word_tokenize(sentence_test2)\n",
    "tagged_seq = Viterbi(words)\n",
    "print(tagged_seq)"
   ]
  },
  {
   "cell_type": "code",
   "execution_count": 48,
   "id": "legal-assumption",
   "metadata": {
    "execution": {
     "iopub.execute_input": "2021-06-22T17:43:41.429307Z",
     "iopub.status.busy": "2021-06-22T17:43:41.423972Z",
     "iopub.status.idle": "2021-06-22T17:43:45.515528Z",
     "shell.execute_reply": "2021-06-22T17:43:45.514983Z",
     "shell.execute_reply.started": "2021-06-22T16:22:45.741580Z"
    },
    "papermill": {
     "duration": 4.170074,
     "end_time": "2021-06-22T17:43:45.515675",
     "exception": false,
     "start_time": "2021-06-22T17:43:41.345601",
     "status": "completed"
    },
    "tags": []
   },
   "outputs": [
    {
     "name": "stdout",
     "output_type": "stream",
     "text": [
      "[('Google', 'NOUN'), ('and', 'CONJ'), ('Twitter', 'NOUN'), ('made', 'VERB'), ('a', 'DET'), ('deal', 'NOUN'), ('in', 'ADP'), ('2015', 'DET'), ('that', 'ADP'), ('gave', 'VERB'), ('Google', 'X'), ('access', 'NOUN'), ('to', 'PRT'), ('Twitter', 'VERB'), (\"'s\", 'PRT'), ('firehose', 'VERB'), ('.', '.')]\n"
     ]
    }
   ],
   "source": [
    "tagged_seq_modified1 = Viterbi_approach1(words)\n",
    "print(tagged_seq_modified1)"
   ]
  },
  {
   "cell_type": "code",
   "execution_count": 49,
   "id": "neural-citizen",
   "metadata": {
    "execution": {
     "iopub.execute_input": "2021-06-22T17:43:45.710380Z",
     "iopub.status.busy": "2021-06-22T17:43:45.669953Z",
     "iopub.status.idle": "2021-06-22T17:44:11.176302Z",
     "shell.execute_reply": "2021-06-22T17:44:11.175633Z",
     "shell.execute_reply.started": "2021-06-22T16:22:51.048678Z"
    },
    "papermill": {
     "duration": 25.5933,
     "end_time": "2021-06-22T17:44:11.176453",
     "exception": false,
     "start_time": "2021-06-22T17:43:45.583153",
     "status": "completed"
    },
    "tags": []
   },
   "outputs": [
    {
     "name": "stdout",
     "output_type": "stream",
     "text": [
      "[('Google', 'NOUN'), ('and', 'CONJ'), ('Twitter', 'NOUN'), ('made', 'VERB'), ('a', 'DET'), ('deal', 'NOUN'), ('in', 'ADP'), ('2015', 'NUM'), ('that', 'ADP'), ('gave', 'VERB'), ('Google', 'NOUN'), ('access', 'NOUN'), ('to', 'PRT'), ('Twitter', 'NOUN'), (\"'s\", 'PRT'), ('firehose', 'NOUN'), ('.', '.')]\n"
     ]
    }
   ],
   "source": [
    "tagged_seq_modified2 = viterbi_backedup_by_trigram_tagger(words)\n",
    "print(tagged_seq_modified2)"
   ]
  },
  {
   "cell_type": "markdown",
   "id": "intellectual-ferry",
   "metadata": {
    "papermill": {
     "duration": 0.06872,
     "end_time": "2021-06-22T17:44:11.313301",
     "exception": false,
     "start_time": "2021-06-22T17:44:11.244581",
     "status": "completed"
    },
    "tags": []
   },
   "source": [
    "**Observations:** \n",
    "\n",
    " - Below words have been correctly tagged by Approach II compared to Modified Approach-I.\n",
    "\n",
    "\n",
    "| Incorrect Tags-Original POS Tagger | Corrected Tags-Modified Approach I | Corrected Tags-Modified Approach II |\n",
    "| --- | --- | --- |\n",
    "| ('Google', '.') | ('Google', 'NOUN') | ('Google', 'NOUN') |\n",
    "| ('Twitter', '.') | ('Twitter', 'NOUN') | ('Twitter', 'NOUN') |\n",
    "| ('2015', '.') | ('2015', 'DET') | ('2015', 'DET') |\n",
    "| ('that', 'DET') | ('that', 'ADP') | ('that', 'ADP') |\n",
    "| ('Google', '.') | ('Google', 'X') | ('Google', 'NOUN') |\n",
    "| ('Twitter', '.') | ('Twitter', 'VERB') | ('Twitter', 'NOUN') |\n",
    "| (''s', 'VERB') | (''s', 'PRT') | (''s', 'PRT') |\n",
    "| ('firehose', '.') | ('firehose', 'VERB') | ('firehose', 'NOUN') |"
   ]
  },
  {
   "cell_type": "markdown",
   "id": "regulation-content",
   "metadata": {
    "papermill": {
     "duration": 0.068582,
     "end_time": "2021-06-22T17:44:11.450685",
     "exception": false,
     "start_time": "2021-06-22T17:44:11.382103",
     "status": "completed"
    },
    "tags": []
   },
   "source": [
    "#### Case#3"
   ]
  },
  {
   "cell_type": "code",
   "execution_count": 50,
   "id": "average-bhutan",
   "metadata": {
    "execution": {
     "iopub.execute_input": "2021-06-22T17:44:11.602228Z",
     "iopub.status.busy": "2021-06-22T17:44:11.601289Z",
     "iopub.status.idle": "2021-06-22T17:44:14.397999Z",
     "shell.execute_reply": "2021-06-22T17:44:14.397448Z",
     "shell.execute_reply.started": "2021-06-22T16:23:17.784949Z"
    },
    "papermill": {
     "duration": 2.879133,
     "end_time": "2021-06-22T17:44:14.398148",
     "exception": false,
     "start_time": "2021-06-22T17:44:11.519015",
     "status": "completed"
    },
    "tags": []
   },
   "outputs": [
    {
     "name": "stdout",
     "output_type": "stream",
     "text": [
      "[('NASA', '.'), ('invited', '.'), ('social', 'ADJ'), ('media', 'NOUN'), ('users', 'NOUN'), ('to', 'PRT'), ('experience', 'NOUN'), ('the', 'DET'), ('launch', 'NOUN'), ('of', 'ADP'), ('ICESAT-2', '.'), ('Satellite', '.'), ('.', '.')]\n"
     ]
    }
   ],
   "source": [
    "sentence_test3 = 'NASA invited social media users to experience the launch of ICESAT-2 Satellite.'\n",
    "words = word_tokenize(sentence_test3)\n",
    "tagged_seq = Viterbi(words)\n",
    "print(tagged_seq)"
   ]
  },
  {
   "cell_type": "code",
   "execution_count": 51,
   "id": "continuous-advance",
   "metadata": {
    "execution": {
     "iopub.execute_input": "2021-06-22T17:44:14.548603Z",
     "iopub.status.busy": "2021-06-22T17:44:14.543313Z",
     "iopub.status.idle": "2021-06-22T17:44:17.647295Z",
     "shell.execute_reply": "2021-06-22T17:44:17.648002Z",
     "shell.execute_reply.started": "2021-06-22T16:23:21.575413Z"
    },
    "papermill": {
     "duration": 3.181819,
     "end_time": "2021-06-22T17:44:17.648260",
     "exception": false,
     "start_time": "2021-06-22T17:44:14.466441",
     "status": "completed"
    },
    "tags": []
   },
   "outputs": [
    {
     "name": "stdout",
     "output_type": "stream",
     "text": [
      "[('NASA', 'NOUN'), ('invited', 'NOUN'), ('social', 'ADJ'), ('media', 'NOUN'), ('users', 'NOUN'), ('to', 'PRT'), ('experience', 'NOUN'), ('the', 'DET'), ('launch', 'NOUN'), ('of', 'ADP'), ('ICESAT-2', 'DET'), ('Satellite', 'NOUN'), ('.', '.')]\n"
     ]
    }
   ],
   "source": [
    "tagged_seq_modified1 = Viterbi_approach1(words)\n",
    "print(tagged_seq_modified1)"
   ]
  },
  {
   "cell_type": "code",
   "execution_count": 52,
   "id": "defined-blogger",
   "metadata": {
    "execution": {
     "iopub.execute_input": "2021-06-22T17:44:17.812931Z",
     "iopub.status.busy": "2021-06-22T17:44:17.806356Z",
     "iopub.status.idle": "2021-06-22T17:44:35.236741Z",
     "shell.execute_reply": "2021-06-22T17:44:35.235932Z",
     "shell.execute_reply.started": "2021-06-22T16:23:25.708858Z"
    },
    "papermill": {
     "duration": 17.51892,
     "end_time": "2021-06-22T17:44:35.236949",
     "exception": false,
     "start_time": "2021-06-22T17:44:17.718029",
     "status": "completed"
    },
    "tags": []
   },
   "outputs": [
    {
     "name": "stdout",
     "output_type": "stream",
     "text": [
      "[('NASA', 'NOUN'), ('invited', 'VERB'), ('social', 'ADJ'), ('media', 'NOUN'), ('users', 'NOUN'), ('to', 'PRT'), ('experience', 'NOUN'), ('the', 'DET'), ('launch', 'NOUN'), ('of', 'ADP'), ('ICESAT-2', 'ADJ'), ('Satellite', 'NOUN'), ('.', '.')]\n"
     ]
    }
   ],
   "source": [
    "tagged_seq_modified2 = viterbi_backedup_by_trigram_tagger(words)\n",
    "print(tagged_seq_modified2)"
   ]
  },
  {
   "cell_type": "markdown",
   "id": "recent-found",
   "metadata": {
    "papermill": {
     "duration": 0.070139,
     "end_time": "2021-06-22T17:44:35.378687",
     "exception": false,
     "start_time": "2021-06-22T17:44:35.308548",
     "status": "completed"
    },
    "tags": []
   },
   "source": [
    "**Observations:** \n",
    "\n",
    " - Below words have been correctly tagged by Approach II compared to Modified Approach-I.\n",
    "\n",
    "\n",
    "| Incorrect Tags-Original POS Tagger | Corrected Tags-Modified Approach I | Corrected Tags-Modified Approach II |\n",
    "| --- | --- | --- |\n",
    "| ('NASA', '.') | ('NASA', 'NOUN') | ('NASA', 'NOUN') |\n",
    "| ('invited', '.') | ('invited', 'NOUN') | ('invited', 'VERB') |\n",
    "| ('ICESAT-2', '.') | ('ICESAT-2', 'DET') | ('ICESAT-2', 'ADJ') |\n",
    "| ('Satellite', '.') | ('Satellite', 'NOUN') | ('Satellite', 'NOUN') |\n"
   ]
  },
  {
   "cell_type": "markdown",
   "id": "infrared-failing",
   "metadata": {
    "papermill": {
     "duration": 0.069669,
     "end_time": "2021-06-22T17:44:35.518602",
     "exception": false,
     "start_time": "2021-06-22T17:44:35.448933",
     "status": "completed"
    },
    "tags": []
   },
   "source": [
    "### CONCLUSION -\n",
    "\n",
    "In this analysis,we used 2 modification techniques for the original vanilla viterbi .\n",
    "    1. Viterbi Modification-Technique I: \n",
    "        - Here we used only the transition probability for unknown words\n",
    "        - Achieved an accuracy of around 93.88%\n",
    "        \n",
    "    2. Viterbi Modification-Technique II: \n",
    "        - we used viterbi algorithm and backed it up with trigram tagger which was backed up by rule-based regex tagger.\n",
    "        - Achieved an accuracy of around 96.19%\n",
    "\n",
    "Most of the words that were incorrectly tagged by the vanilla viterbi algorithm were corrected by the viterbi algorithm backed up by the trigram tagger.\n"
   ]
  }
 ],
 "metadata": {
  "kernelspec": {
   "display_name": "Python 3",
   "language": "python",
   "name": "python3"
  },
  "language_info": {
   "codemirror_mode": {
    "name": "ipython",
    "version": 3
   },
   "file_extension": ".py",
   "mimetype": "text/x-python",
   "name": "python",
   "nbconvert_exporter": "python",
   "pygments_lexer": "ipython3",
   "version": "3.7.9"
  },
  "papermill": {
   "default_parameters": {},
   "duration": 4825.940501,
   "end_time": "2021-06-22T17:44:36.399161",
   "environment_variables": {},
   "exception": null,
   "input_path": "__notebook__.ipynb",
   "output_path": "__notebook__.ipynb",
   "parameters": {},
   "start_time": "2021-06-22T16:24:10.458660",
   "version": "2.3.2"
  }
 },
 "nbformat": 4,
 "nbformat_minor": 5
}
